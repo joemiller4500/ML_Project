{
 "cells": [
  {
   "cell_type": "code",
   "execution_count": 1,
   "metadata": {},
   "outputs": [],
   "source": [
    "# Apple - Stock market abbreviation: AAPL\n",
    "# Import Dependencies\n",
    "import numpy as np\n",
    "import pandas as pd\n",
    "import matplotlib.pyplot as plt\n",
    "from alpha_vantage.timeseries import TimeSeries\n",
    "ts = TimeSeries(key='your_API_key_here',output_format='pandas')"
   ]
  },
  {
   "cell_type": "code",
   "execution_count": 2,
   "metadata": {},
   "outputs": [
    {
     "data": {
      "text/html": [
       "<div>\n",
       "<style scoped>\n",
       "    .dataframe tbody tr th:only-of-type {\n",
       "        vertical-align: middle;\n",
       "    }\n",
       "\n",
       "    .dataframe tbody tr th {\n",
       "        vertical-align: top;\n",
       "    }\n",
       "\n",
       "    .dataframe thead th {\n",
       "        text-align: right;\n",
       "    }\n",
       "</style>\n",
       "<table border=\"1\" class=\"dataframe\">\n",
       "  <thead>\n",
       "    <tr style=\"text-align: right;\">\n",
       "      <th></th>\n",
       "      <th>1. open</th>\n",
       "      <th>2. high</th>\n",
       "      <th>3. low</th>\n",
       "      <th>4. close</th>\n",
       "      <th>5. volume</th>\n",
       "    </tr>\n",
       "  </thead>\n",
       "  <tbody>\n",
       "    <tr>\n",
       "      <td>count</td>\n",
       "      <td>5226.000000</td>\n",
       "      <td>5226.000000</td>\n",
       "      <td>5226.000000</td>\n",
       "      <td>5226.000000</td>\n",
       "      <td>5.226000e+03</td>\n",
       "    </tr>\n",
       "    <tr>\n",
       "      <td>mean</td>\n",
       "      <td>175.919433</td>\n",
       "      <td>177.871639</td>\n",
       "      <td>173.834537</td>\n",
       "      <td>175.907279</td>\n",
       "      <td>2.375806e+07</td>\n",
       "    </tr>\n",
       "    <tr>\n",
       "      <td>std</td>\n",
       "      <td>159.879863</td>\n",
       "      <td>161.198075</td>\n",
       "      <td>158.349729</td>\n",
       "      <td>159.807313</td>\n",
       "      <td>1.836599e+07</td>\n",
       "    </tr>\n",
       "    <tr>\n",
       "      <td>min</td>\n",
       "      <td>12.990000</td>\n",
       "      <td>13.190000</td>\n",
       "      <td>12.720000</td>\n",
       "      <td>13.120000</td>\n",
       "      <td>7.025000e+05</td>\n",
       "    </tr>\n",
       "    <tr>\n",
       "      <td>25%</td>\n",
       "      <td>59.230000</td>\n",
       "      <td>60.660000</td>\n",
       "      <td>58.355000</td>\n",
       "      <td>59.615750</td>\n",
       "      <td>9.757075e+06</td>\n",
       "    </tr>\n",
       "    <tr>\n",
       "      <td>50%</td>\n",
       "      <td>123.265000</td>\n",
       "      <td>125.050000</td>\n",
       "      <td>121.375000</td>\n",
       "      <td>123.265000</td>\n",
       "      <td>2.041075e+07</td>\n",
       "    </tr>\n",
       "    <tr>\n",
       "      <td>75%</td>\n",
       "      <td>221.732500</td>\n",
       "      <td>224.112500</td>\n",
       "      <td>219.292500</td>\n",
       "      <td>222.242425</td>\n",
       "      <td>3.222546e+07</td>\n",
       "    </tr>\n",
       "    <tr>\n",
       "      <td>max</td>\n",
       "      <td>702.410000</td>\n",
       "      <td>705.070000</td>\n",
       "      <td>699.570000</td>\n",
       "      <td>702.100000</td>\n",
       "      <td>1.895606e+08</td>\n",
       "    </tr>\n",
       "  </tbody>\n",
       "</table>\n",
       "</div>"
      ],
      "text/plain": [
       "           1. open      2. high       3. low     4. close     5. volume\n",
       "count  5226.000000  5226.000000  5226.000000  5226.000000  5.226000e+03\n",
       "mean    175.919433   177.871639   173.834537   175.907279  2.375806e+07\n",
       "std     159.879863   161.198075   158.349729   159.807313  1.836599e+07\n",
       "min      12.990000    13.190000    12.720000    13.120000  7.025000e+05\n",
       "25%      59.230000    60.660000    58.355000    59.615750  9.757075e+06\n",
       "50%     123.265000   125.050000   121.375000   123.265000  2.041075e+07\n",
       "75%     221.732500   224.112500   219.292500   222.242425  3.222546e+07\n",
       "max     702.410000   705.070000   699.570000   702.100000  1.895606e+08"
      ]
     },
     "execution_count": 2,
     "metadata": {},
     "output_type": "execute_result"
    }
   ],
   "source": [
    "# Pull in Apple stock data: 'full' returns the full-length time series of 20+ years of historical data\n",
    "AAPL_data, metadata=ts.get_daily('AAPL',outputsize='full')\n",
    "AAPL_data.describe()"
   ]
  },
  {
   "cell_type": "code",
   "execution_count": 3,
   "metadata": {},
   "outputs": [],
   "source": [
    "# Create a csv file of the data\n",
    "AAPL_data.to_csv('AAPL_data.csv')"
   ]
  },
  {
   "cell_type": "code",
   "execution_count": 4,
   "metadata": {},
   "outputs": [],
   "source": [
    "# Sort by date\n",
    "AAPL_data['date'] = AAPL_data.index"
   ]
  },
  {
   "cell_type": "code",
   "execution_count": 5,
   "metadata": {},
   "outputs": [
    {
     "data": {
      "text/html": [
       "<div>\n",
       "<style scoped>\n",
       "    .dataframe tbody tr th:only-of-type {\n",
       "        vertical-align: middle;\n",
       "    }\n",
       "\n",
       "    .dataframe tbody tr th {\n",
       "        vertical-align: top;\n",
       "    }\n",
       "\n",
       "    .dataframe thead th {\n",
       "        text-align: right;\n",
       "    }\n",
       "</style>\n",
       "<table border=\"1\" class=\"dataframe\">\n",
       "  <thead>\n",
       "    <tr style=\"text-align: right;\">\n",
       "      <th></th>\n",
       "      <th>1. open</th>\n",
       "      <th>2. high</th>\n",
       "      <th>3. low</th>\n",
       "      <th>4. close</th>\n",
       "      <th>5. volume</th>\n",
       "      <th>date</th>\n",
       "    </tr>\n",
       "    <tr>\n",
       "      <th>date</th>\n",
       "      <th></th>\n",
       "      <th></th>\n",
       "      <th></th>\n",
       "      <th></th>\n",
       "      <th></th>\n",
       "      <th></th>\n",
       "    </tr>\n",
       "  </thead>\n",
       "  <tbody>\n",
       "    <tr>\n",
       "      <td>2020-08-07</td>\n",
       "      <td>452.82</td>\n",
       "      <td>454.7000</td>\n",
       "      <td>441.17</td>\n",
       "      <td>444.45</td>\n",
       "      <td>49511403.0</td>\n",
       "      <td>2020-08-07</td>\n",
       "    </tr>\n",
       "    <tr>\n",
       "      <td>2020-08-06</td>\n",
       "      <td>441.62</td>\n",
       "      <td>457.6500</td>\n",
       "      <td>439.19</td>\n",
       "      <td>455.61</td>\n",
       "      <td>50607225.0</td>\n",
       "      <td>2020-08-06</td>\n",
       "    </tr>\n",
       "    <tr>\n",
       "      <td>2020-08-05</td>\n",
       "      <td>437.51</td>\n",
       "      <td>441.5700</td>\n",
       "      <td>435.59</td>\n",
       "      <td>440.25</td>\n",
       "      <td>30497988.0</td>\n",
       "      <td>2020-08-05</td>\n",
       "    </tr>\n",
       "    <tr>\n",
       "      <td>2020-08-04</td>\n",
       "      <td>436.53</td>\n",
       "      <td>443.1600</td>\n",
       "      <td>433.55</td>\n",
       "      <td>438.66</td>\n",
       "      <td>43198092.0</td>\n",
       "      <td>2020-08-04</td>\n",
       "    </tr>\n",
       "    <tr>\n",
       "      <td>2020-08-03</td>\n",
       "      <td>432.80</td>\n",
       "      <td>446.5457</td>\n",
       "      <td>431.57</td>\n",
       "      <td>435.75</td>\n",
       "      <td>77037847.0</td>\n",
       "      <td>2020-08-03</td>\n",
       "    </tr>\n",
       "    <tr>\n",
       "      <td>...</td>\n",
       "      <td>...</td>\n",
       "      <td>...</td>\n",
       "      <td>...</td>\n",
       "      <td>...</td>\n",
       "      <td>...</td>\n",
       "      <td>...</td>\n",
       "    </tr>\n",
       "    <tr>\n",
       "      <td>1999-11-05</td>\n",
       "      <td>84.62</td>\n",
       "      <td>88.3700</td>\n",
       "      <td>84.00</td>\n",
       "      <td>88.31</td>\n",
       "      <td>3721500.0</td>\n",
       "      <td>1999-11-05</td>\n",
       "    </tr>\n",
       "    <tr>\n",
       "      <td>1999-11-04</td>\n",
       "      <td>82.06</td>\n",
       "      <td>85.3700</td>\n",
       "      <td>80.62</td>\n",
       "      <td>83.62</td>\n",
       "      <td>3384700.0</td>\n",
       "      <td>1999-11-04</td>\n",
       "    </tr>\n",
       "    <tr>\n",
       "      <td>1999-11-03</td>\n",
       "      <td>81.62</td>\n",
       "      <td>83.2500</td>\n",
       "      <td>81.00</td>\n",
       "      <td>81.50</td>\n",
       "      <td>2932700.0</td>\n",
       "      <td>1999-11-03</td>\n",
       "    </tr>\n",
       "    <tr>\n",
       "      <td>1999-11-02</td>\n",
       "      <td>78.00</td>\n",
       "      <td>81.6900</td>\n",
       "      <td>77.31</td>\n",
       "      <td>80.25</td>\n",
       "      <td>3564600.0</td>\n",
       "      <td>1999-11-02</td>\n",
       "    </tr>\n",
       "    <tr>\n",
       "      <td>1999-11-01</td>\n",
       "      <td>80.00</td>\n",
       "      <td>80.6900</td>\n",
       "      <td>77.37</td>\n",
       "      <td>77.62</td>\n",
       "      <td>2487300.0</td>\n",
       "      <td>1999-11-01</td>\n",
       "    </tr>\n",
       "  </tbody>\n",
       "</table>\n",
       "<p>5226 rows × 6 columns</p>\n",
       "</div>"
      ],
      "text/plain": [
       "            1. open   2. high  3. low  4. close   5. volume       date\n",
       "date                                                                  \n",
       "2020-08-07   452.82  454.7000  441.17    444.45  49511403.0 2020-08-07\n",
       "2020-08-06   441.62  457.6500  439.19    455.61  50607225.0 2020-08-06\n",
       "2020-08-05   437.51  441.5700  435.59    440.25  30497988.0 2020-08-05\n",
       "2020-08-04   436.53  443.1600  433.55    438.66  43198092.0 2020-08-04\n",
       "2020-08-03   432.80  446.5457  431.57    435.75  77037847.0 2020-08-03\n",
       "...             ...       ...     ...       ...         ...        ...\n",
       "1999-11-05    84.62   88.3700   84.00     88.31   3721500.0 1999-11-05\n",
       "1999-11-04    82.06   85.3700   80.62     83.62   3384700.0 1999-11-04\n",
       "1999-11-03    81.62   83.2500   81.00     81.50   2932700.0 1999-11-03\n",
       "1999-11-02    78.00   81.6900   77.31     80.25   3564600.0 1999-11-02\n",
       "1999-11-01    80.00   80.6900   77.37     77.62   2487300.0 1999-11-01\n",
       "\n",
       "[5226 rows x 6 columns]"
      ]
     },
     "execution_count": 5,
     "metadata": {},
     "output_type": "execute_result"
    }
   ],
   "source": [
    "# Show our data\n",
    "AAPL_data"
   ]
  },
  {
   "cell_type": "code",
   "execution_count": 7,
   "metadata": {},
   "outputs": [],
   "source": [
    "# Read in our stock market data to use for training\n",
    "AAPL_training_complete = pd.read_csv('//project_3/AAPL_data.csv')"
   ]
  },
  {
   "cell_type": "code",
   "execution_count": 8,
   "metadata": {},
   "outputs": [],
   "source": [
    "# Filter all the data from our training set and will retain only the values for the open column\n",
    "# We will use the opening stock price for our testing\n",
    "AAPL_training_processed = AAPL_training_complete.iloc[:, 1:2].values"
   ]
  },
  {
   "cell_type": "code",
   "execution_count": 9,
   "metadata": {},
   "outputs": [],
   "source": [
    "# Scale the data so we can use a recurrent neural network on it\n",
    "from sklearn.preprocessing import MinMaxScaler\n",
    "scaler = MinMaxScaler(feature_range = (0, 1))\n",
    "\n",
    "AAPL_training_scaled = scaler.fit_transform(AAPL_training_processed)"
   ]
  },
  {
   "cell_type": "code",
   "execution_count": 10,
   "metadata": {},
   "outputs": [],
   "source": [
    "# Create two lists: feature_set and labels\n",
    "features_set = []\n",
    "labels = []\n",
    "for i in range(60, 5226):\n",
    "    features_set.append(AAPL_training_scaled[i-60:i, 0])\n",
    "    labels.append(AAPL_training_scaled[i, 0])"
   ]
  },
  {
   "cell_type": "code",
   "execution_count": 11,
   "metadata": {},
   "outputs": [],
   "source": [
    "# Convert both the feature_set and the labels list to the numpy array before we can use it for training\n",
    "features_set, labels = np.array(features_set), np.array(labels)"
   ]
  },
  {
   "cell_type": "code",
   "execution_count": 12,
   "metadata": {},
   "outputs": [],
   "source": [
    "# In order to train LSTM on our data, we need to convert our data into the shape accepted by the LSTM.\n",
    "# We need to convert our data into three-dimensional format\n",
    "features_set = np.reshape(features_set, (features_set.shape[0], features_set.shape[1], 1))"
   ]
  },
  {
   "cell_type": "code",
   "execution_count": 13,
   "metadata": {},
   "outputs": [],
   "source": [
    "# Import dependencies\n",
    "from tensorflow.keras.models import Sequential\n",
    "from tensorflow.keras.layers import Dense\n",
    "from tensorflow.keras.layers import LSTM\n",
    "from tensorflow.keras.layers import Dropout"
   ]
  },
  {
   "cell_type": "code",
   "execution_count": 14,
   "metadata": {},
   "outputs": [],
   "source": [
    "# Instantiate the sequential class\n",
    "model = Sequential()"
   ]
  },
  {
   "cell_type": "code",
   "execution_count": 15,
   "metadata": {},
   "outputs": [
    {
     "name": "stdout",
     "output_type": "stream",
     "text": [
      "WARNING:tensorflow:From /Users/kelbywilson/opt/anaconda3/lib/python3.7/site-packages/tensorflow_core/python/ops/resource_variable_ops.py:1630: calling BaseResourceVariable.__init__ (from tensorflow.python.ops.resource_variable_ops) with constraint is deprecated and will be removed in a future version.\n",
      "Instructions for updating:\n",
      "If using Keras pass *_constraint arguments to layers.\n"
     ]
    }
   ],
   "source": [
    "# Add LSTM layer to the model that we just created. LSTM = Long Short-Term Memory, a type of RNN\n",
    "model.add(LSTM(units=50, return_sequences=True, input_shape=(features_set.shape[1], 1)))"
   ]
  },
  {
   "cell_type": "code",
   "execution_count": 16,
   "metadata": {},
   "outputs": [],
   "source": [
    "# Add dropout layer to avoid overfitting of the data\n",
    "model.add(Dropout(0.2))"
   ]
  },
  {
   "cell_type": "code",
   "execution_count": 17,
   "metadata": {},
   "outputs": [],
   "source": [
    "# Add three more LSTM and dropout layers to our model\n",
    "model.add(LSTM(units=50, return_sequences=True))\n",
    "model.add(Dropout(0.2))\n",
    "\n",
    "model.add(LSTM(units=50, return_sequences=True))\n",
    "model.add(Dropout(0.2))\n",
    "\n",
    "model.add(LSTM(units=50))\n",
    "model.add(Dropout(0.2))"
   ]
  },
  {
   "cell_type": "code",
   "execution_count": 18,
   "metadata": {},
   "outputs": [],
   "source": [
    "# To make our model more robust we add a dense layer\n",
    "model.add(Dense(units = 1))"
   ]
  },
  {
   "cell_type": "code",
   "execution_count": 19,
   "metadata": {},
   "outputs": [],
   "source": [
    "# Compile the model and set parameters\n",
    "model.compile(optimizer = 'adam', loss = 'mean_squared_error')"
   ]
  },
  {
   "cell_type": "code",
   "execution_count": 20,
   "metadata": {},
   "outputs": [
    {
     "name": "stdout",
     "output_type": "stream",
     "text": [
      "WARNING:tensorflow:From /Users/kelbywilson/opt/anaconda3/lib/python3.7/site-packages/tensorflow_core/python/ops/math_grad.py:1424: where (from tensorflow.python.ops.array_ops) is deprecated and will be removed in a future version.\n",
      "Instructions for updating:\n",
      "Use tf.where in 2.0, which has the same broadcast rule as np.where\n",
      "Train on 5166 samples\n",
      "Epoch 1/50\n",
      "5166/5166 [==============================] - 26s 5ms/sample - loss: 0.0066\n",
      "Epoch 2/50\n",
      "5166/5166 [==============================] - 24s 5ms/sample - loss: 0.0024\n",
      "Epoch 3/50\n",
      "5166/5166 [==============================] - 24s 5ms/sample - loss: 0.0023\n",
      "Epoch 4/50\n",
      "5166/5166 [==============================] - 24s 5ms/sample - loss: 0.0019\n",
      "Epoch 5/50\n",
      "5166/5166 [==============================] - 24s 5ms/sample - loss: 0.0017\n",
      "Epoch 6/50\n",
      "5166/5166 [==============================] - 24s 5ms/sample - loss: 0.0016\n",
      "Epoch 7/50\n",
      "5166/5166 [==============================] - 23s 5ms/sample - loss: 0.0014\n",
      "Epoch 8/50\n",
      "5166/5166 [==============================] - 24s 5ms/sample - loss: 0.0016\n",
      "Epoch 9/50\n",
      "5166/5166 [==============================] - 24s 5ms/sample - loss: 0.0014\n",
      "Epoch 10/50\n",
      "5166/5166 [==============================] - 24s 5ms/sample - loss: 0.0013\n",
      "Epoch 11/50\n",
      "5166/5166 [==============================] - 24s 5ms/sample - loss: 0.0012\n",
      "Epoch 12/50\n",
      "5166/5166 [==============================] - 24s 5ms/sample - loss: 0.0011\n",
      "Epoch 13/50\n",
      "5166/5166 [==============================] - 24s 5ms/sample - loss: 0.0011\n",
      "Epoch 14/50\n",
      "5166/5166 [==============================] - 24s 5ms/sample - loss: 0.0011\n",
      "Epoch 15/50\n",
      "5166/5166 [==============================] - 24s 5ms/sample - loss: 0.0010\n",
      "Epoch 16/50\n",
      "5166/5166 [==============================] - 24s 5ms/sample - loss: 9.9043e-04\n",
      "Epoch 17/50\n",
      "5166/5166 [==============================] - 24s 5ms/sample - loss: 0.0011\n",
      "Epoch 18/50\n",
      "5166/5166 [==============================] - 24s 5ms/sample - loss: 9.5732e-04\n",
      "Epoch 19/50\n",
      "5166/5166 [==============================] - 24s 5ms/sample - loss: 8.8937e-04\n",
      "Epoch 20/50\n",
      "5166/5166 [==============================] - 24s 5ms/sample - loss: 8.9000e-04\n",
      "Epoch 21/50\n",
      "5166/5166 [==============================] - 24s 5ms/sample - loss: 8.6451e-04\n",
      "Epoch 22/50\n",
      "5166/5166 [==============================] - 24s 5ms/sample - loss: 8.5861e-04\n",
      "Epoch 23/50\n",
      "5166/5166 [==============================] - 24s 5ms/sample - loss: 9.4264e-04\n",
      "Epoch 24/50\n",
      "5166/5166 [==============================] - 24s 5ms/sample - loss: 8.0973e-04\n",
      "Epoch 25/50\n",
      "5166/5166 [==============================] - 24s 5ms/sample - loss: 9.4721e-04\n",
      "Epoch 26/50\n",
      "5166/5166 [==============================] - 24s 5ms/sample - loss: 8.6471e-04\n",
      "Epoch 27/50\n",
      "5166/5166 [==============================] - 24s 5ms/sample - loss: 8.1081e-04\n",
      "Epoch 28/50\n",
      "5166/5166 [==============================] - 24s 5ms/sample - loss: 8.2509e-04\n",
      "Epoch 29/50\n",
      "5166/5166 [==============================] - 24s 5ms/sample - loss: 7.9299e-04\n",
      "Epoch 30/50\n",
      "5166/5166 [==============================] - 24s 5ms/sample - loss: 8.3060e-04\n",
      "Epoch 31/50\n",
      "5166/5166 [==============================] - 24s 5ms/sample - loss: 8.3902e-04\n",
      "Epoch 32/50\n",
      "5166/5166 [==============================] - 24s 5ms/sample - loss: 7.7403e-04\n",
      "Epoch 33/50\n",
      "5166/5166 [==============================] - 26s 5ms/sample - loss: 7.7792e-04\n",
      "Epoch 34/50\n",
      "5166/5166 [==============================] - 25s 5ms/sample - loss: 7.5987e-04\n",
      "Epoch 35/50\n",
      "5166/5166 [==============================] - 26s 5ms/sample - loss: 7.3950e-04\n",
      "Epoch 36/50\n",
      "5166/5166 [==============================] - 25s 5ms/sample - loss: 7.5083e-04\n",
      "Epoch 37/50\n",
      "5166/5166 [==============================] - 25s 5ms/sample - loss: 6.9742e-04\n",
      "Epoch 38/50\n",
      "5166/5166 [==============================] - 26s 5ms/sample - loss: 7.2180e-04\n",
      "Epoch 39/50\n",
      "5166/5166 [==============================] - 25s 5ms/sample - loss: 7.2767e-04\n",
      "Epoch 40/50\n",
      "5166/5166 [==============================] - 25s 5ms/sample - loss: 6.8438e-04\n",
      "Epoch 41/50\n",
      "5166/5166 [==============================] - 26s 5ms/sample - loss: 6.6069e-04\n",
      "Epoch 42/50\n",
      "5166/5166 [==============================] - 25s 5ms/sample - loss: 6.5810e-04\n",
      "Epoch 43/50\n",
      "5166/5166 [==============================] - 25s 5ms/sample - loss: 7.3947e-04\n",
      "Epoch 44/50\n",
      "5166/5166 [==============================] - 25s 5ms/sample - loss: 7.6065e-04\n",
      "Epoch 45/50\n",
      "5166/5166 [==============================] - 26s 5ms/sample - loss: 6.8554e-04\n",
      "Epoch 46/50\n",
      "5166/5166 [==============================] - 25s 5ms/sample - loss: 7.4385e-04\n",
      "Epoch 47/50\n",
      "5166/5166 [==============================] - 25s 5ms/sample - loss: 7.2266e-04\n",
      "Epoch 48/50\n",
      "5166/5166 [==============================] - 25s 5ms/sample - loss: 6.8087e-04\n",
      "Epoch 49/50\n",
      "5166/5166 [==============================] - 25s 5ms/sample - loss: 6.5990e-04\n",
      "Epoch 50/50\n",
      "5166/5166 [==============================] - 25s 5ms/sample - loss: 6.5346e-04\n"
     ]
    },
    {
     "data": {
      "text/plain": [
       "<tensorflow.python.keras.callbacks.History at 0x7fe8c1240210>"
      ]
     },
     "execution_count": 20,
     "metadata": {},
     "output_type": "execute_result"
    }
   ],
   "source": [
    "# Train the model - this can take a while\n",
    "model.fit(features_set, labels, epochs = 50, batch_size = 32)"
   ]
  },
  {
   "cell_type": "code",
   "execution_count": 34,
   "metadata": {},
   "outputs": [
    {
     "name": "stdout",
     "output_type": "stream",
     "text": [
      "Train on 5166 samples\n",
      "Epoch 1/50\n",
      "5166/5166 [==============================] - 24s 5ms/sample - loss: 6.5228e-04\n",
      "Epoch 2/50\n",
      "5166/5166 [==============================] - 26s 5ms/sample - loss: 6.5634e-04\n",
      "Epoch 3/50\n",
      "5166/5166 [==============================] - 25s 5ms/sample - loss: 7.9667e-04\n",
      "Epoch 4/50\n",
      "5166/5166 [==============================] - 25s 5ms/sample - loss: 6.8529e-04\n",
      "Epoch 5/50\n",
      "5166/5166 [==============================] - 25s 5ms/sample - loss: 6.7346e-04\n",
      "Epoch 6/50\n",
      "5166/5166 [==============================] - 25s 5ms/sample - loss: 6.4613e-04\n",
      "Epoch 7/50\n",
      "5166/5166 [==============================] - 25s 5ms/sample - loss: 6.5900e-04\n",
      "Epoch 8/50\n",
      "5166/5166 [==============================] - 26s 5ms/sample - loss: 6.2093e-04\n",
      "Epoch 9/50\n",
      "5166/5166 [==============================] - 25s 5ms/sample - loss: 6.3922e-04\n",
      "Epoch 10/50\n",
      "5166/5166 [==============================] - 24s 5ms/sample - loss: 6.4222e-04\n",
      "Epoch 11/50\n",
      "5166/5166 [==============================] - 24s 5ms/sample - loss: 6.8319e-04\n",
      "Epoch 12/50\n",
      "5166/5166 [==============================] - 24s 5ms/sample - loss: 6.9660e-04\n",
      "Epoch 13/50\n",
      "5166/5166 [==============================] - 24s 5ms/sample - loss: 6.3265e-04\n",
      "Epoch 14/50\n",
      "5166/5166 [==============================] - 25s 5ms/sample - loss: 6.6751e-04\n",
      "Epoch 15/50\n",
      "5166/5166 [==============================] - 25s 5ms/sample - loss: 6.4640e-04\n",
      "Epoch 16/50\n",
      "5166/5166 [==============================] - 24s 5ms/sample - loss: 6.1920e-04\n",
      "Epoch 17/50\n",
      "5166/5166 [==============================] - 24s 5ms/sample - loss: 6.6155e-04\n",
      "Epoch 18/50\n",
      "5166/5166 [==============================] - 25s 5ms/sample - loss: 6.1145e-04\n",
      "Epoch 19/50\n",
      "5166/5166 [==============================] - 25s 5ms/sample - loss: 6.3246e-04\n",
      "Epoch 20/50\n",
      "5166/5166 [==============================] - 25s 5ms/sample - loss: 6.3851e-04\n",
      "Epoch 21/50\n",
      "5166/5166 [==============================] - 24s 5ms/sample - loss: 6.8870e-04\n",
      "Epoch 22/50\n",
      "5166/5166 [==============================] - 24s 5ms/sample - loss: 6.1593e-04\n",
      "Epoch 23/50\n",
      "5166/5166 [==============================] - 24s 5ms/sample - loss: 6.4550e-04\n",
      "Epoch 24/50\n",
      "5166/5166 [==============================] - 24s 5ms/sample - loss: 6.3503e-04\n",
      "Epoch 25/50\n",
      "5166/5166 [==============================] - 24s 5ms/sample - loss: 6.1158e-04\n",
      "Epoch 26/50\n",
      "5166/5166 [==============================] - 25s 5ms/sample - loss: 7.2019e-04\n",
      "Epoch 27/50\n",
      "5166/5166 [==============================] - 24s 5ms/sample - loss: 6.1349e-04\n",
      "Epoch 28/50\n",
      "5166/5166 [==============================] - 24s 5ms/sample - loss: 6.0703e-04\n",
      "Epoch 29/50\n",
      "5166/5166 [==============================] - 24s 5ms/sample - loss: 6.1115e-04\n",
      "Epoch 30/50\n",
      "5166/5166 [==============================] - 24s 5ms/sample - loss: 6.7851e-04\n",
      "Epoch 31/50\n",
      "5166/5166 [==============================] - 24s 5ms/sample - loss: 6.2616e-04\n",
      "Epoch 32/50\n",
      "5166/5166 [==============================] - 24s 5ms/sample - loss: 5.6037e-04\n",
      "Epoch 33/50\n",
      "5166/5166 [==============================] - 24s 5ms/sample - loss: 6.3915e-04\n",
      "Epoch 34/50\n",
      "5166/5166 [==============================] - 24s 5ms/sample - loss: 6.0354e-04\n",
      "Epoch 35/50\n",
      "5166/5166 [==============================] - 24s 5ms/sample - loss: 6.3453e-04\n",
      "Epoch 36/50\n",
      "5166/5166 [==============================] - 24s 5ms/sample - loss: 6.1111e-04\n",
      "Epoch 37/50\n",
      "5166/5166 [==============================] - 25s 5ms/sample - loss: 6.5164e-04\n",
      "Epoch 38/50\n",
      "5166/5166 [==============================] - 25s 5ms/sample - loss: 6.2814e-04\n",
      "Epoch 39/50\n",
      "5166/5166 [==============================] - 25s 5ms/sample - loss: 6.5899e-04\n",
      "Epoch 40/50\n",
      "5166/5166 [==============================] - 25s 5ms/sample - loss: 5.8649e-04\n",
      "Epoch 41/50\n",
      "5166/5166 [==============================] - 25s 5ms/sample - loss: 6.2904e-04\n",
      "Epoch 42/50\n",
      "5166/5166 [==============================] - 25s 5ms/sample - loss: 6.0935e-04\n",
      "Epoch 43/50\n",
      "5166/5166 [==============================] - 24s 5ms/sample - loss: 5.9688e-04\n",
      "Epoch 44/50\n",
      "5166/5166 [==============================] - 24s 5ms/sample - loss: 6.0951e-04\n",
      "Epoch 45/50\n",
      "5166/5166 [==============================] - 24s 5ms/sample - loss: 6.3774e-04\n",
      "Epoch 46/50\n",
      "5166/5166 [==============================] - 24s 5ms/sample - loss: 6.2294e-04\n",
      "Epoch 47/50\n",
      "5166/5166 [==============================] - 24s 5ms/sample - loss: 6.3871e-04\n",
      "Epoch 48/50\n",
      "5166/5166 [==============================] - 24s 5ms/sample - loss: 5.9123e-04\n",
      "Epoch 49/50\n",
      "5166/5166 [==============================] - 25s 5ms/sample - loss: 6.3624e-04\n",
      "Epoch 50/50\n",
      "5166/5166 [==============================] - 24s 5ms/sample - loss: 5.8595e-04\n"
     ]
    },
    {
     "data": {
      "text/plain": [
       "<tensorflow.python.keras.callbacks.History at 0x7fe8c30a2150>"
      ]
     },
     "execution_count": 34,
     "metadata": {},
     "output_type": "execute_result"
    }
   ],
   "source": [
    "# Further training of the model\n",
    "model.fit(features_set, labels, epochs = 50, batch_size = 32)"
   ]
  },
  {
   "cell_type": "code",
   "execution_count": 21,
   "metadata": {},
   "outputs": [
    {
     "data": {
      "text/html": [
       "<div>\n",
       "<style scoped>\n",
       "    .dataframe tbody tr th:only-of-type {\n",
       "        vertical-align: middle;\n",
       "    }\n",
       "\n",
       "    .dataframe tbody tr th {\n",
       "        vertical-align: top;\n",
       "    }\n",
       "\n",
       "    .dataframe thead th {\n",
       "        text-align: right;\n",
       "    }\n",
       "</style>\n",
       "<table border=\"1\" class=\"dataframe\">\n",
       "  <thead>\n",
       "    <tr style=\"text-align: right;\">\n",
       "      <th></th>\n",
       "      <th>1. open</th>\n",
       "      <th>2. high</th>\n",
       "      <th>3. low</th>\n",
       "      <th>4. close</th>\n",
       "      <th>5. volume</th>\n",
       "    </tr>\n",
       "  </thead>\n",
       "  <tbody>\n",
       "    <tr>\n",
       "      <td>count</td>\n",
       "      <td>100.000000</td>\n",
       "      <td>100.000000</td>\n",
       "      <td>100.000000</td>\n",
       "      <td>100.000000</td>\n",
       "      <td>1.000000e+02</td>\n",
       "    </tr>\n",
       "    <tr>\n",
       "      <td>mean</td>\n",
       "      <td>325.188185</td>\n",
       "      <td>330.069679</td>\n",
       "      <td>321.217290</td>\n",
       "      <td>326.048500</td>\n",
       "      <td>4.015550e+07</td>\n",
       "    </tr>\n",
       "    <tr>\n",
       "      <td>std</td>\n",
       "      <td>53.984652</td>\n",
       "      <td>54.278490</td>\n",
       "      <td>53.960713</td>\n",
       "      <td>54.383836</td>\n",
       "      <td>1.588973e+07</td>\n",
       "    </tr>\n",
       "    <tr>\n",
       "      <td>min</td>\n",
       "      <td>228.080000</td>\n",
       "      <td>228.500000</td>\n",
       "      <td>212.610000</td>\n",
       "      <td>224.370000</td>\n",
       "      <td>2.019780e+07</td>\n",
       "    </tr>\n",
       "    <tr>\n",
       "      <td>25%</td>\n",
       "      <td>282.250000</td>\n",
       "      <td>286.205000</td>\n",
       "      <td>278.162500</td>\n",
       "      <td>283.120000</td>\n",
       "      <td>2.914918e+07</td>\n",
       "    </tr>\n",
       "    <tr>\n",
       "      <td>50%</td>\n",
       "      <td>318.955000</td>\n",
       "      <td>322.895000</td>\n",
       "      <td>316.510000</td>\n",
       "      <td>319.060000</td>\n",
       "      <td>3.531960e+07</td>\n",
       "    </tr>\n",
       "    <tr>\n",
       "      <td>75%</td>\n",
       "      <td>365.802500</td>\n",
       "      <td>372.005000</td>\n",
       "      <td>363.707500</td>\n",
       "      <td>367.512500</td>\n",
       "      <td>4.830402e+07</td>\n",
       "    </tr>\n",
       "    <tr>\n",
       "      <td>max</td>\n",
       "      <td>452.820000</td>\n",
       "      <td>457.650000</td>\n",
       "      <td>441.170000</td>\n",
       "      <td>455.610000</td>\n",
       "      <td>1.004233e+08</td>\n",
       "    </tr>\n",
       "  </tbody>\n",
       "</table>\n",
       "</div>"
      ],
      "text/plain": [
       "          1. open     2. high      3. low    4. close     5. volume\n",
       "count  100.000000  100.000000  100.000000  100.000000  1.000000e+02\n",
       "mean   325.188185  330.069679  321.217290  326.048500  4.015550e+07\n",
       "std     53.984652   54.278490   53.960713   54.383836  1.588973e+07\n",
       "min    228.080000  228.500000  212.610000  224.370000  2.019780e+07\n",
       "25%    282.250000  286.205000  278.162500  283.120000  2.914918e+07\n",
       "50%    318.955000  322.895000  316.510000  319.060000  3.531960e+07\n",
       "75%    365.802500  372.005000  363.707500  367.512500  4.830402e+07\n",
       "max    452.820000  457.650000  441.170000  455.610000  1.004233e+08"
      ]
     },
     "execution_count": 21,
     "metadata": {},
     "output_type": "execute_result"
    }
   ],
   "source": [
    "# Pull in recent stock data to test the prediction model against - last 100 days of data\n",
    "AAPL_data2, metadata=ts.get_daily('AAPL',outputsize='compact')\n",
    "AAPL_data2.describe()"
   ]
  },
  {
   "cell_type": "code",
   "execution_count": 22,
   "metadata": {},
   "outputs": [],
   "source": [
    "AAPL_data2.to_csv('AAPL_data2.csv')"
   ]
  },
  {
   "cell_type": "code",
   "execution_count": 23,
   "metadata": {},
   "outputs": [],
   "source": [
    "AAPL_data2['date'] = AAPL_data2.index"
   ]
  },
  {
   "cell_type": "code",
   "execution_count": 24,
   "metadata": {},
   "outputs": [
    {
     "data": {
      "text/html": [
       "<div>\n",
       "<style scoped>\n",
       "    .dataframe tbody tr th:only-of-type {\n",
       "        vertical-align: middle;\n",
       "    }\n",
       "\n",
       "    .dataframe tbody tr th {\n",
       "        vertical-align: top;\n",
       "    }\n",
       "\n",
       "    .dataframe thead th {\n",
       "        text-align: right;\n",
       "    }\n",
       "</style>\n",
       "<table border=\"1\" class=\"dataframe\">\n",
       "  <thead>\n",
       "    <tr style=\"text-align: right;\">\n",
       "      <th></th>\n",
       "      <th>1. open</th>\n",
       "      <th>2. high</th>\n",
       "      <th>3. low</th>\n",
       "      <th>4. close</th>\n",
       "      <th>5. volume</th>\n",
       "      <th>date</th>\n",
       "    </tr>\n",
       "    <tr>\n",
       "      <th>date</th>\n",
       "      <th></th>\n",
       "      <th></th>\n",
       "      <th></th>\n",
       "      <th></th>\n",
       "      <th></th>\n",
       "      <th></th>\n",
       "    </tr>\n",
       "  </thead>\n",
       "  <tbody>\n",
       "    <tr>\n",
       "      <td>2020-08-07</td>\n",
       "      <td>452.82</td>\n",
       "      <td>454.7000</td>\n",
       "      <td>441.17</td>\n",
       "      <td>444.45</td>\n",
       "      <td>49511403.0</td>\n",
       "      <td>2020-08-07</td>\n",
       "    </tr>\n",
       "    <tr>\n",
       "      <td>2020-08-06</td>\n",
       "      <td>441.62</td>\n",
       "      <td>457.6500</td>\n",
       "      <td>439.19</td>\n",
       "      <td>455.61</td>\n",
       "      <td>50607225.0</td>\n",
       "      <td>2020-08-06</td>\n",
       "    </tr>\n",
       "    <tr>\n",
       "      <td>2020-08-05</td>\n",
       "      <td>437.51</td>\n",
       "      <td>441.5700</td>\n",
       "      <td>435.59</td>\n",
       "      <td>440.25</td>\n",
       "      <td>30497988.0</td>\n",
       "      <td>2020-08-05</td>\n",
       "    </tr>\n",
       "    <tr>\n",
       "      <td>2020-08-04</td>\n",
       "      <td>436.53</td>\n",
       "      <td>443.1600</td>\n",
       "      <td>433.55</td>\n",
       "      <td>438.66</td>\n",
       "      <td>43198092.0</td>\n",
       "      <td>2020-08-04</td>\n",
       "    </tr>\n",
       "    <tr>\n",
       "      <td>2020-08-03</td>\n",
       "      <td>432.80</td>\n",
       "      <td>446.5457</td>\n",
       "      <td>431.57</td>\n",
       "      <td>435.75</td>\n",
       "      <td>77037847.0</td>\n",
       "      <td>2020-08-03</td>\n",
       "    </tr>\n",
       "    <tr>\n",
       "      <td>...</td>\n",
       "      <td>...</td>\n",
       "      <td>...</td>\n",
       "      <td>...</td>\n",
       "      <td>...</td>\n",
       "      <td>...</td>\n",
       "      <td>...</td>\n",
       "    </tr>\n",
       "    <tr>\n",
       "      <td>2020-03-24</td>\n",
       "      <td>236.36</td>\n",
       "      <td>247.6900</td>\n",
       "      <td>234.30</td>\n",
       "      <td>246.88</td>\n",
       "      <td>71882800.0</td>\n",
       "      <td>2020-03-24</td>\n",
       "    </tr>\n",
       "    <tr>\n",
       "      <td>2020-03-23</td>\n",
       "      <td>228.08</td>\n",
       "      <td>228.5000</td>\n",
       "      <td>212.61</td>\n",
       "      <td>224.37</td>\n",
       "      <td>84188200.0</td>\n",
       "      <td>2020-03-23</td>\n",
       "    </tr>\n",
       "    <tr>\n",
       "      <td>2020-03-20</td>\n",
       "      <td>247.18</td>\n",
       "      <td>251.8300</td>\n",
       "      <td>228.00</td>\n",
       "      <td>229.24</td>\n",
       "      <td>100423300.0</td>\n",
       "      <td>2020-03-20</td>\n",
       "    </tr>\n",
       "    <tr>\n",
       "      <td>2020-03-19</td>\n",
       "      <td>247.39</td>\n",
       "      <td>252.8400</td>\n",
       "      <td>242.61</td>\n",
       "      <td>244.78</td>\n",
       "      <td>67964300.0</td>\n",
       "      <td>2020-03-19</td>\n",
       "    </tr>\n",
       "    <tr>\n",
       "      <td>2020-03-18</td>\n",
       "      <td>239.77</td>\n",
       "      <td>250.0000</td>\n",
       "      <td>237.12</td>\n",
       "      <td>246.67</td>\n",
       "      <td>75058400.0</td>\n",
       "      <td>2020-03-18</td>\n",
       "    </tr>\n",
       "  </tbody>\n",
       "</table>\n",
       "<p>100 rows × 6 columns</p>\n",
       "</div>"
      ],
      "text/plain": [
       "            1. open   2. high  3. low  4. close    5. volume       date\n",
       "date                                                                   \n",
       "2020-08-07   452.82  454.7000  441.17    444.45   49511403.0 2020-08-07\n",
       "2020-08-06   441.62  457.6500  439.19    455.61   50607225.0 2020-08-06\n",
       "2020-08-05   437.51  441.5700  435.59    440.25   30497988.0 2020-08-05\n",
       "2020-08-04   436.53  443.1600  433.55    438.66   43198092.0 2020-08-04\n",
       "2020-08-03   432.80  446.5457  431.57    435.75   77037847.0 2020-08-03\n",
       "...             ...       ...     ...       ...          ...        ...\n",
       "2020-03-24   236.36  247.6900  234.30    246.88   71882800.0 2020-03-24\n",
       "2020-03-23   228.08  228.5000  212.61    224.37   84188200.0 2020-03-23\n",
       "2020-03-20   247.18  251.8300  228.00    229.24  100423300.0 2020-03-20\n",
       "2020-03-19   247.39  252.8400  242.61    244.78   67964300.0 2020-03-19\n",
       "2020-03-18   239.77  250.0000  237.12    246.67   75058400.0 2020-03-18\n",
       "\n",
       "[100 rows x 6 columns]"
      ]
     },
     "execution_count": 24,
     "metadata": {},
     "output_type": "execute_result"
    }
   ],
   "source": [
    "AAPL_data2"
   ]
  },
  {
   "cell_type": "code",
   "execution_count": 25,
   "metadata": {},
   "outputs": [],
   "source": [
    "# Read in our testing data\n",
    "AAPL_testing_complete = pd.read_csv('//project_3/AAPL_data2.csv')\n",
    "AAPL_testing_processed = AAPL_testing_complete.iloc[:, 1:2].values"
   ]
  },
  {
   "cell_type": "code",
   "execution_count": 26,
   "metadata": {},
   "outputs": [],
   "source": [
    "# Concatenate our training data and testing data\n",
    "AAPL_total = pd.concat((AAPL_training_complete['1. open'], AAPL_testing_complete['1. open']), axis=0)"
   ]
  },
  {
   "cell_type": "code",
   "execution_count": 27,
   "metadata": {},
   "outputs": [],
   "source": [
    "# Prepare our test inputs. The input for each day should contain the opening stock prices for the previous 60 days\n",
    "# We need opening stock prices for the 20 test days and the 60 stock prices from the last 60 days for the training set\n",
    "test_inputs = AAPL_total[len(AAPL_total) - len(AAPL_testing_complete) - 60:].values"
   ]
  },
  {
   "cell_type": "code",
   "execution_count": 28,
   "metadata": {},
   "outputs": [],
   "source": [
    "# Scale the test data\n",
    "test_inputs = test_inputs.reshape(-1,1)\n",
    "test_inputs = scaler.transform(test_inputs)"
   ]
  },
  {
   "cell_type": "code",
   "execution_count": 42,
   "metadata": {},
   "outputs": [],
   "source": [
    "# Prepare our final test input set that will contain previous 60 stock prices\n",
    "test_features = []\n",
    "for i in range(60, 161):\n",
    "    test_features.append(test_inputs[i-60:i, 0])"
   ]
  },
  {
   "cell_type": "code",
   "execution_count": 43,
   "metadata": {},
   "outputs": [],
   "source": [
    "# Convert our data into the three-dimensional format which can be used as input to the LSTM\n",
    "test_features = np.array(test_features)\n",
    "test_features = np.reshape(test_features, (test_features.shape[0], test_features.shape[1], 1))"
   ]
  },
  {
   "cell_type": "code",
   "execution_count": 44,
   "metadata": {},
   "outputs": [],
   "source": [
    "# Call the predict method on the model that we trained\n",
    "predictions = model.predict(test_features)"
   ]
  },
  {
   "cell_type": "code",
   "execution_count": 45,
   "metadata": {},
   "outputs": [],
   "source": [
    "# Since we scaled our data, the predictions made by the LSTM are also scaled \n",
    "# We need to reverse the scaled prediction back to their actual values\n",
    "predictions = scaler.inverse_transform(predictions)"
   ]
  },
  {
   "cell_type": "code",
   "execution_count": 46,
   "metadata": {},
   "outputs": [
    {
     "data": {
      "image/png": "[encoded data removed]",
      "text/plain": [
       "<Figure size 720x432 with 1 Axes>"
      ]
     },
     "metadata": {
      "needs_background": "light"
     },
     "output_type": "display_data"
    }
   ],
   "source": [
    "# Plot the results - model trained with 50 epochs \n",
    "plt.figure(figsize=(10,6))\n",
    "plt.plot(AAPL_testing_processed, color='blue', label='Actual Apple Stock Price')\n",
    "plt.plot(predictions , color='red', label='Predicted Apple Stock Price')\n",
    "plt.title('Apple Stock Price Prediction')\n",
    "plt.xlabel('Date')\n",
    "plt.ylabel('Apple Stock Price')\n",
    "plt.legend()\n",
    "plt.show()"
   ]
  },
  {
   "cell_type": "code",
   "execution_count": 35,
   "metadata": {},
   "outputs": [],
   "source": [
    "test_inputs = AAPL_total[len(AAPL_total) - len(AAPL_testing_complete) - 60:].values"
   ]
  },
  {
   "cell_type": "code",
   "execution_count": 36,
   "metadata": {},
   "outputs": [],
   "source": [
    "test_inputs = test_inputs.reshape(-1,1)\n",
    "test_inputs = scaler.transform(test_inputs)"
   ]
  },
  {
   "cell_type": "code",
   "execution_count": 47,
   "metadata": {},
   "outputs": [],
   "source": [
    "test_features = []\n",
    "for i in range(60, 161):\n",
    "    test_features.append(test_inputs[i-60:i, 0])"
   ]
  },
  {
   "cell_type": "code",
   "execution_count": 48,
   "metadata": {},
   "outputs": [],
   "source": [
    "test_features = np.array(test_features)\n",
    "test_features = np.reshape(test_features, (test_features.shape[0], test_features.shape[1], 1))"
   ]
  },
  {
   "cell_type": "code",
   "execution_count": 49,
   "metadata": {},
   "outputs": [],
   "source": [
    "predictions = model.predict(test_features)"
   ]
  },
  {
   "cell_type": "code",
   "execution_count": 50,
   "metadata": {},
   "outputs": [],
   "source": [
    "predictions = scaler.inverse_transform(predictions)"
   ]
  },
  {
   "cell_type": "code",
   "execution_count": 58,
   "metadata": {},
   "outputs": [
    {
     "data": {
      "image/png": "[encoded data removed]",
      "text/plain": [
       "<Figure size 720x432 with 1 Axes>"
      ]
     },
     "metadata": {
      "needs_background": "light"
     },
     "output_type": "display_data"
    }
   ],
   "source": [
    "# Plot the results - model trained with 100 epochs \n",
    "plt.figure(figsize=(10,6))\n",
    "plt.plot(AAPL_testing_processed, color='blue', label='Actual Apple Stock Price')\n",
    "plt.plot(predictions , color='red', label='Predicted Apple Stock Price')\n",
    "plt.title('Apple Stock Price Prediction')\n",
    "plt.xlabel('Date')\n",
    "plt.ylabel('Apple Stock Price')\n",
    "plt.legend()\n",
    "plt.show()"
   ]
  },
  {
   "cell_type": "code",
   "execution_count": 62,
   "metadata": {},
   "outputs": [],
   "source": [
    "# Save the model - can be used later\n",
    "model.save(\"Apple_model_trained.h5\")"
   ]
  }
 ],
 "metadata": {
  "kernelspec": {
   "display_name": "Python 3",
   "language": "python",
   "name": "python3"
  },
  "language_info": {
   "codemirror_mode": {
    "name": "ipython",
    "version": 3
   },
   "file_extension": ".py",
   "mimetype": "text/x-python",
   "name": "python",
   "nbconvert_exporter": "python",
   "pygments_lexer": "ipython3",
   "version": "3.7.4"
  }
 },
 "nbformat": 4,
 "nbformat_minor": 2
}
