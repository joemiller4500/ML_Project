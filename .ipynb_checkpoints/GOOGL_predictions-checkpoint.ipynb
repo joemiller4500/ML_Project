{
 "cells": [
  {
   "cell_type": "code",
   "execution_count": 2,
   "metadata": {},
   "outputs": [],
   "source": [
    "# Download module if it does not exist\n",
    "#!pip install alpha_vantage"
   ]
  },
  {
   "cell_type": "code",
   "execution_count": 1,
   "metadata": {},
   "outputs": [],
   "source": [
    "import numpy as np\n",
    "import pandas as pd\n",
    "import matplotlib.pyplot as plt\n",
    "from alpha_vantage.timeseries import TimeSeries\n",
    "import matplotlib.pyplot as plt\n",
    "ts = TimeSeries(key='0A88ODHJ7EJ93FJS',output_format='pandas')"
   ]
  },
  {
   "cell_type": "code",
   "execution_count": 2,
   "metadata": {},
   "outputs": [
    {
     "data": {
      "text/html": [
       "<div>\n",
       "<style scoped>\n",
       "    .dataframe tbody tr th:only-of-type {\n",
       "        vertical-align: middle;\n",
       "    }\n",
       "\n",
       "    .dataframe tbody tr th {\n",
       "        vertical-align: top;\n",
       "    }\n",
       "\n",
       "    .dataframe thead th {\n",
       "        text-align: right;\n",
       "    }\n",
       "</style>\n",
       "<table border=\"1\" class=\"dataframe\">\n",
       "  <thead>\n",
       "    <tr style=\"text-align: right;\">\n",
       "      <th></th>\n",
       "      <th>1. open</th>\n",
       "      <th>2. high</th>\n",
       "      <th>3. low</th>\n",
       "      <th>4. close</th>\n",
       "      <th>5. volume</th>\n",
       "    </tr>\n",
       "  </thead>\n",
       "  <tbody>\n",
       "    <tr>\n",
       "      <td>count</td>\n",
       "      <td>4025.000000</td>\n",
       "      <td>4025.000000</td>\n",
       "      <td>4025.000000</td>\n",
       "      <td>4025.000000</td>\n",
       "      <td>4.025000e+03</td>\n",
       "    </tr>\n",
       "    <tr>\n",
       "      <td>mean</td>\n",
       "      <td>689.502276</td>\n",
       "      <td>696.062828</td>\n",
       "      <td>682.495104</td>\n",
       "      <td>689.428306</td>\n",
       "      <td>6.925932e+06</td>\n",
       "    </tr>\n",
       "    <tr>\n",
       "      <td>std</td>\n",
       "      <td>309.533541</td>\n",
       "      <td>311.965328</td>\n",
       "      <td>307.143949</td>\n",
       "      <td>309.805959</td>\n",
       "      <td>7.907312e+06</td>\n",
       "    </tr>\n",
       "    <tr>\n",
       "      <td>min</td>\n",
       "      <td>99.090000</td>\n",
       "      <td>101.740000</td>\n",
       "      <td>95.960000</td>\n",
       "      <td>100.010000</td>\n",
       "      <td>3.845900e+04</td>\n",
       "    </tr>\n",
       "    <tr>\n",
       "      <td>25%</td>\n",
       "      <td>480.900000</td>\n",
       "      <td>485.700000</td>\n",
       "      <td>477.020000</td>\n",
       "      <td>481.060000</td>\n",
       "      <td>1.846615e+06</td>\n",
       "    </tr>\n",
       "    <tr>\n",
       "      <td>50%</td>\n",
       "      <td>596.950000</td>\n",
       "      <td>600.600000</td>\n",
       "      <td>592.230000</td>\n",
       "      <td>596.420000</td>\n",
       "      <td>4.198300e+06</td>\n",
       "    </tr>\n",
       "    <tr>\n",
       "      <td>75%</td>\n",
       "      <td>882.440000</td>\n",
       "      <td>888.500000</td>\n",
       "      <td>876.650000</td>\n",
       "      <td>882.010000</td>\n",
       "      <td>8.742800e+06</td>\n",
       "    </tr>\n",
       "    <tr>\n",
       "      <td>max</td>\n",
       "      <td>1585.030000</td>\n",
       "      <td>1587.050000</td>\n",
       "      <td>1552.620000</td>\n",
       "      <td>1564.850000</td>\n",
       "      <td>8.215110e+07</td>\n",
       "    </tr>\n",
       "  </tbody>\n",
       "</table>\n",
       "</div>"
      ],
      "text/plain": [
       "           1. open      2. high       3. low     4. close     5. volume\n",
       "count  4025.000000  4025.000000  4025.000000  4025.000000  4.025000e+03\n",
       "mean    689.502276   696.062828   682.495104   689.428306  6.925932e+06\n",
       "std     309.533541   311.965328   307.143949   309.805959  7.907312e+06\n",
       "min      99.090000   101.740000    95.960000   100.010000  3.845900e+04\n",
       "25%     480.900000   485.700000   477.020000   481.060000  1.846615e+06\n",
       "50%     596.950000   600.600000   592.230000   596.420000  4.198300e+06\n",
       "75%     882.440000   888.500000   876.650000   882.010000  8.742800e+06\n",
       "max    1585.030000  1587.050000  1552.620000  1564.850000  8.215110e+07"
      ]
     },
     "execution_count": 2,
     "metadata": {},
     "output_type": "execute_result"
    }
   ],
   "source": [
    "# Use the Alpha Vantage API to get Target stock data\n",
    "GOOGL_data, metadata=ts.get_daily('GOOGL',outputsize='full')\n",
    "GOOGL_data.describe()"
   ]
  },
  {
   "cell_type": "code",
   "execution_count": 3,
   "metadata": {},
   "outputs": [],
   "source": [
    "GOOGL_data.to_csv('GOOGL_data.csv')"
   ]
  },
  {
   "cell_type": "code",
   "execution_count": 4,
   "metadata": {},
   "outputs": [],
   "source": [
    "GOOGL_data['date'] = GOOGL_data.index"
   ]
  },
  {
   "cell_type": "code",
   "execution_count": 5,
   "metadata": {},
   "outputs": [
    {
     "data": {
      "text/html": [
       "<div>\n",
       "<style scoped>\n",
       "    .dataframe tbody tr th:only-of-type {\n",
       "        vertical-align: middle;\n",
       "    }\n",
       "\n",
       "    .dataframe tbody tr th {\n",
       "        vertical-align: top;\n",
       "    }\n",
       "\n",
       "    .dataframe thead th {\n",
       "        text-align: right;\n",
       "    }\n",
       "</style>\n",
       "<table border=\"1\" class=\"dataframe\">\n",
       "  <thead>\n",
       "    <tr style=\"text-align: right;\">\n",
       "      <th></th>\n",
       "      <th>1. open</th>\n",
       "      <th>2. high</th>\n",
       "      <th>3. low</th>\n",
       "      <th>4. close</th>\n",
       "      <th>5. volume</th>\n",
       "      <th>date</th>\n",
       "    </tr>\n",
       "    <tr>\n",
       "      <th>date</th>\n",
       "      <th></th>\n",
       "      <th></th>\n",
       "      <th></th>\n",
       "      <th></th>\n",
       "      <th></th>\n",
       "      <th></th>\n",
       "    </tr>\n",
       "  </thead>\n",
       "  <tbody>\n",
       "    <tr>\n",
       "      <td>2020-08-13</td>\n",
       "      <td>1508.2100</td>\n",
       "      <td>1536.9744</td>\n",
       "      <td>1508.2100</td>\n",
       "      <td>1516.650</td>\n",
       "      <td>1114479.0</td>\n",
       "      <td>2020-08-13</td>\n",
       "    </tr>\n",
       "    <tr>\n",
       "      <td>2020-08-12</td>\n",
       "      <td>1487.1245</td>\n",
       "      <td>1511.6700</td>\n",
       "      <td>1485.0000</td>\n",
       "      <td>1507.240</td>\n",
       "      <td>1126560.0</td>\n",
       "      <td>2020-08-12</td>\n",
       "    </tr>\n",
       "    <tr>\n",
       "      <td>2020-08-11</td>\n",
       "      <td>1494.0000</td>\n",
       "      <td>1510.4400</td>\n",
       "      <td>1478.1900</td>\n",
       "      <td>1480.540</td>\n",
       "      <td>1554853.0</td>\n",
       "      <td>2020-08-11</td>\n",
       "    </tr>\n",
       "    <tr>\n",
       "      <td>2020-08-10</td>\n",
       "      <td>1490.8000</td>\n",
       "      <td>1507.1500</td>\n",
       "      <td>1477.4901</td>\n",
       "      <td>1496.820</td>\n",
       "      <td>1027329.0</td>\n",
       "      <td>2020-08-10</td>\n",
       "    </tr>\n",
       "    <tr>\n",
       "      <td>2020-08-07</td>\n",
       "      <td>1509.0400</td>\n",
       "      <td>1520.0900</td>\n",
       "      <td>1486.2700</td>\n",
       "      <td>1498.370</td>\n",
       "      <td>1386294.0</td>\n",
       "      <td>2020-08-07</td>\n",
       "    </tr>\n",
       "    <tr>\n",
       "      <td>...</td>\n",
       "      <td>...</td>\n",
       "      <td>...</td>\n",
       "      <td>...</td>\n",
       "      <td>...</td>\n",
       "      <td>...</td>\n",
       "      <td>...</td>\n",
       "    </tr>\n",
       "    <tr>\n",
       "      <td>2004-08-25</td>\n",
       "      <td>104.7600</td>\n",
       "      <td>108.0000</td>\n",
       "      <td>103.8800</td>\n",
       "      <td>106.000</td>\n",
       "      <td>9188600.0</td>\n",
       "      <td>2004-08-25</td>\n",
       "    </tr>\n",
       "    <tr>\n",
       "      <td>2004-08-24</td>\n",
       "      <td>111.2400</td>\n",
       "      <td>111.6000</td>\n",
       "      <td>103.5700</td>\n",
       "      <td>104.870</td>\n",
       "      <td>15247300.0</td>\n",
       "      <td>2004-08-24</td>\n",
       "    </tr>\n",
       "    <tr>\n",
       "      <td>2004-08-23</td>\n",
       "      <td>110.7600</td>\n",
       "      <td>113.4800</td>\n",
       "      <td>109.0500</td>\n",
       "      <td>109.400</td>\n",
       "      <td>18256100.0</td>\n",
       "      <td>2004-08-23</td>\n",
       "    </tr>\n",
       "    <tr>\n",
       "      <td>2004-08-20</td>\n",
       "      <td>101.0100</td>\n",
       "      <td>109.0800</td>\n",
       "      <td>100.5000</td>\n",
       "      <td>108.310</td>\n",
       "      <td>22834300.0</td>\n",
       "      <td>2004-08-20</td>\n",
       "    </tr>\n",
       "    <tr>\n",
       "      <td>2004-08-19</td>\n",
       "      <td>100.0100</td>\n",
       "      <td>104.0600</td>\n",
       "      <td>95.9600</td>\n",
       "      <td>100.335</td>\n",
       "      <td>44659000.0</td>\n",
       "      <td>2004-08-19</td>\n",
       "    </tr>\n",
       "  </tbody>\n",
       "</table>\n",
       "<p>4025 rows × 6 columns</p>\n",
       "</div>"
      ],
      "text/plain": [
       "              1. open    2. high     3. low  4. close   5. volume       date\n",
       "date                                                                        \n",
       "2020-08-13  1508.2100  1536.9744  1508.2100  1516.650   1114479.0 2020-08-13\n",
       "2020-08-12  1487.1245  1511.6700  1485.0000  1507.240   1126560.0 2020-08-12\n",
       "2020-08-11  1494.0000  1510.4400  1478.1900  1480.540   1554853.0 2020-08-11\n",
       "2020-08-10  1490.8000  1507.1500  1477.4901  1496.820   1027329.0 2020-08-10\n",
       "2020-08-07  1509.0400  1520.0900  1486.2700  1498.370   1386294.0 2020-08-07\n",
       "...               ...        ...        ...       ...         ...        ...\n",
       "2004-08-25   104.7600   108.0000   103.8800   106.000   9188600.0 2004-08-25\n",
       "2004-08-24   111.2400   111.6000   103.5700   104.870  15247300.0 2004-08-24\n",
       "2004-08-23   110.7600   113.4800   109.0500   109.400  18256100.0 2004-08-23\n",
       "2004-08-20   101.0100   109.0800   100.5000   108.310  22834300.0 2004-08-20\n",
       "2004-08-19   100.0100   104.0600    95.9600   100.335  44659000.0 2004-08-19\n",
       "\n",
       "[4025 rows x 6 columns]"
      ]
     },
     "execution_count": 5,
     "metadata": {},
     "output_type": "execute_result"
    }
   ],
   "source": [
    "GOOGL_data"
   ]
  },
  {
   "cell_type": "code",
   "execution_count": 6,
   "metadata": {},
   "outputs": [],
   "source": [
    "GOOGL_training_complete = pd.read_csv('/Users/jana/UCBWork_ND/ML_Project/GOOGL_data.csv')"
   ]
  },
  {
   "cell_type": "code",
   "execution_count": 7,
   "metadata": {},
   "outputs": [],
   "source": [
    "GOOGL_training_processed = GOOGL_training_complete.iloc[:, 1:2].values"
   ]
  },
  {
   "cell_type": "code",
   "execution_count": 8,
   "metadata": {},
   "outputs": [],
   "source": [
    "from sklearn.preprocessing import MinMaxScaler\n",
    "scaler = MinMaxScaler(feature_range = (0, 1))\n",
    "\n",
    "GOOGL_training_scaled = scaler.fit_transform(GOOGL_training_processed)"
   ]
  },
  {
   "cell_type": "code",
   "execution_count": 11,
   "metadata": {},
   "outputs": [],
   "source": [
    "features_set = []\n",
    "labels = []\n",
    "for i in range(60, 4025):\n",
    "    features_set.append(GOOGL_training_scaled[i-60:i, 0])\n",
    "    labels.append(GOOGL_training_scaled[i, 0])"
   ]
  },
  {
   "cell_type": "code",
   "execution_count": 12,
   "metadata": {},
   "outputs": [],
   "source": [
    "# Convert both the feature_set and the labels list to the numpy array before we can use it for training\n",
    "features_set, labels = np.array(features_set), np.array(labels)"
   ]
  },
  {
   "cell_type": "code",
   "execution_count": 13,
   "metadata": {},
   "outputs": [],
   "source": [
    "# In order to train LSTM on our data, we need to convert our data into the shape accepted by the LSTM.\n",
    "# We need to convert our data into three-dimensional format\n",
    "features_set = np.reshape(features_set, (features_set.shape[0], features_set.shape[1], 1))"
   ]
  },
  {
   "cell_type": "code",
   "execution_count": 14,
   "metadata": {},
   "outputs": [],
   "source": [
    "from tensorflow.keras.models import Sequential\n",
    "from tensorflow.keras.layers import Dense\n",
    "from tensorflow.keras.layers import LSTM\n",
    "from tensorflow.keras.layers import Dropout"
   ]
  },
  {
   "cell_type": "code",
   "execution_count": 15,
   "metadata": {},
   "outputs": [],
   "source": [
    "model = Sequential()"
   ]
  },
  {
   "cell_type": "code",
   "execution_count": 16,
   "metadata": {},
   "outputs": [
    {
     "name": "stdout",
     "output_type": "stream",
     "text": [
      "WARNING:tensorflow:From C:\\Users\\jana\\Anaconda3\\lib\\site-packages\\tensorflow_core\\python\\ops\\resource_variable_ops.py:1630: calling BaseResourceVariable.__init__ (from tensorflow.python.ops.resource_variable_ops) with constraint is deprecated and will be removed in a future version.\n",
      "Instructions for updating:\n",
      "If using Keras pass *_constraint arguments to layers.\n"
     ]
    }
   ],
   "source": [
    "model.add(LSTM(units=50, return_sequences=True, input_shape=(features_set.shape[1], 1)))"
   ]
  },
  {
   "cell_type": "code",
   "execution_count": 17,
   "metadata": {},
   "outputs": [],
   "source": [
    "# Add dropout layer to avoid overfitting of the data\n",
    "model.add(Dropout(0.2))"
   ]
  },
  {
   "cell_type": "code",
   "execution_count": 18,
   "metadata": {},
   "outputs": [],
   "source": [
    "model.add(LSTM(units=50, return_sequences=True))\n",
    "model.add(Dropout(0.2))\n",
    "\n",
    "model.add(LSTM(units=50, return_sequences=True))\n",
    "model.add(Dropout(0.2))\n",
    "\n",
    "model.add(LSTM(units=50))\n",
    "model.add(Dropout(0.2))"
   ]
  },
  {
   "cell_type": "code",
   "execution_count": 19,
   "metadata": {},
   "outputs": [],
   "source": [
    "# To make our model more robust we add a dense layer\n",
    "model.add(Dense(units = 1))"
   ]
  },
  {
   "cell_type": "code",
   "execution_count": 20,
   "metadata": {},
   "outputs": [],
   "source": [
    "model.compile(optimizer = 'adam', loss = 'mean_squared_error')"
   ]
  },
  {
   "cell_type": "code",
   "execution_count": null,
   "metadata": {},
   "outputs": [
    {
     "name": "stdout",
     "output_type": "stream",
     "text": [
      "WARNING:tensorflow:From C:\\Users\\jana\\Anaconda3\\lib\\site-packages\\tensorflow_core\\python\\ops\\math_grad.py:1424: where (from tensorflow.python.ops.array_ops) is deprecated and will be removed in a future version.\n",
      "Instructions for updating:\n",
      "Use tf.where in 2.0, which has the same broadcast rule as np.where\n",
      "Train on 3965 samples\n",
      "Epoch 1/100\n",
      "3965/3965 [==============================] - 60s 15ms/sample - loss: 0.0128\n",
      "Epoch 2/100\n",
      "3965/3965 [==============================] - 43s 11ms/sample - loss: 0.0029\n",
      "Epoch 3/100\n",
      "3965/3965 [==============================] - 47s 12ms/sample - loss: 0.0025\n",
      "Epoch 4/100\n",
      "3965/3965 [==============================] - 47s 12ms/sample - loss: 0.0023\n",
      "Epoch 5/100\n",
      "3965/3965 [==============================] - 44s 11ms/sample - loss: 0.0023\n",
      "Epoch 6/100\n",
      "3965/3965 [==============================] - 46s 12ms/sample - loss: 0.0020\n",
      "Epoch 7/100\n",
      "3965/3965 [==============================] - 43s 11ms/sample - loss: 0.0018\n",
      "Epoch 8/100\n",
      "3965/3965 [==============================] - 51s 13ms/sample - loss: 0.0016\n",
      "Epoch 9/100\n",
      "3965/3965 [==============================] - 48s 12ms/sample - loss: 0.0016\n",
      "Epoch 10/100\n",
      "3965/3965 [==============================] - 45s 11ms/sample - loss: 0.0016\n",
      "Epoch 11/100\n",
      "3965/3965 [==============================] - 44s 11ms/sample - loss: 0.0015\n",
      "Epoch 12/100\n",
      "3965/3965 [==============================] - 42s 10ms/sample - loss: 0.0014\n",
      "Epoch 13/100\n",
      "3965/3965 [==============================] - 41s 10ms/sample - loss: 0.0013\n",
      "Epoch 14/100\n",
      "1568/3965 [==========>...................] - ETA: 26s - loss: 0.0012"
     ]
    }
   ],
   "source": [
    "# Train the model\n",
    "model.fit(features_set, labels, epochs = 100, batch_size = 32)"
   ]
  },
  {
   "cell_type": "code",
   "execution_count": 20,
   "metadata": {},
   "outputs": [
    {
     "data": {
      "text/html": [
       "<div>\n",
       "<style scoped>\n",
       "    .dataframe tbody tr th:only-of-type {\n",
       "        vertical-align: middle;\n",
       "    }\n",
       "\n",
       "    .dataframe tbody tr th {\n",
       "        vertical-align: top;\n",
       "    }\n",
       "\n",
       "    .dataframe thead th {\n",
       "        text-align: right;\n",
       "    }\n",
       "</style>\n",
       "<table border=\"1\" class=\"dataframe\">\n",
       "  <thead>\n",
       "    <tr style=\"text-align: right;\">\n",
       "      <th></th>\n",
       "      <th>1. open</th>\n",
       "      <th>2. high</th>\n",
       "      <th>3. low</th>\n",
       "      <th>4. close</th>\n",
       "      <th>5. volume</th>\n",
       "    </tr>\n",
       "  </thead>\n",
       "  <tbody>\n",
       "    <tr>\n",
       "      <td>count</td>\n",
       "      <td>100.000000</td>\n",
       "      <td>100.000000</td>\n",
       "      <td>100.000000</td>\n",
       "      <td>100.000000</td>\n",
       "      <td>1.000000e+02</td>\n",
       "    </tr>\n",
       "    <tr>\n",
       "      <td>mean</td>\n",
       "      <td>114.908199</td>\n",
       "      <td>116.662376</td>\n",
       "      <td>113.361097</td>\n",
       "      <td>115.011100</td>\n",
       "      <td>5.104004e+06</td>\n",
       "    </tr>\n",
       "    <tr>\n",
       "      <td>std</td>\n",
       "      <td>9.788997</td>\n",
       "      <td>9.354272</td>\n",
       "      <td>10.124590</td>\n",
       "      <td>9.746471</td>\n",
       "      <td>2.457219e+06</td>\n",
       "    </tr>\n",
       "    <tr>\n",
       "      <td>min</td>\n",
       "      <td>91.390000</td>\n",
       "      <td>94.130000</td>\n",
       "      <td>90.170000</td>\n",
       "      <td>91.040000</td>\n",
       "      <td>1.979947e+06</td>\n",
       "    </tr>\n",
       "    <tr>\n",
       "      <td>25%</td>\n",
       "      <td>108.740000</td>\n",
       "      <td>110.877500</td>\n",
       "      <td>107.385225</td>\n",
       "      <td>109.220000</td>\n",
       "      <td>3.517100e+06</td>\n",
       "    </tr>\n",
       "    <tr>\n",
       "      <td>50%</td>\n",
       "      <td>118.770000</td>\n",
       "      <td>120.205000</td>\n",
       "      <td>117.320000</td>\n",
       "      <td>118.625000</td>\n",
       "      <td>4.583773e+06</td>\n",
       "    </tr>\n",
       "    <tr>\n",
       "      <td>75%</td>\n",
       "      <td>121.042500</td>\n",
       "      <td>122.732500</td>\n",
       "      <td>119.705000</td>\n",
       "      <td>121.080000</td>\n",
       "      <td>6.182814e+06</td>\n",
       "    </tr>\n",
       "    <tr>\n",
       "      <td>max</td>\n",
       "      <td>132.070000</td>\n",
       "      <td>134.110000</td>\n",
       "      <td>131.250000</td>\n",
       "      <td>132.940000</td>\n",
       "      <td>1.648827e+07</td>\n",
       "    </tr>\n",
       "  </tbody>\n",
       "</table>\n",
       "</div>"
      ],
      "text/plain": [
       "          1. open     2. high      3. low    4. close     5. volume\n",
       "count  100.000000  100.000000  100.000000  100.000000  1.000000e+02\n",
       "mean   114.908199  116.662376  113.361097  115.011100  5.104004e+06\n",
       "std      9.788997    9.354272   10.124590    9.746471  2.457219e+06\n",
       "min     91.390000   94.130000   90.170000   91.040000  1.979947e+06\n",
       "25%    108.740000  110.877500  107.385225  109.220000  3.517100e+06\n",
       "50%    118.770000  120.205000  117.320000  118.625000  4.583773e+06\n",
       "75%    121.042500  122.732500  119.705000  121.080000  6.182814e+06\n",
       "max    132.070000  134.110000  131.250000  132.940000  1.648827e+07"
      ]
     },
     "execution_count": 20,
     "metadata": {},
     "output_type": "execute_result"
    }
   ],
   "source": [
    "# Pull in recent stock data to test the prediction model against - last 100 days of data\n",
    "GOOGL_data2, metadata=ts.get_daily('GOOGL',outputsize='compact')\n",
    "GOOGL_data2.describe()"
   ]
  },
  {
   "cell_type": "code",
   "execution_count": 21,
   "metadata": {},
   "outputs": [],
   "source": [
    "GOOGL_data2.to_csv('GOOGL_data2.csv')"
   ]
  },
  {
   "cell_type": "code",
   "execution_count": 22,
   "metadata": {},
   "outputs": [],
   "source": [
    "GOOGL_data2['date'] = GOOGL_data2.index"
   ]
  },
  {
   "cell_type": "code",
   "execution_count": 23,
   "metadata": {
    "scrolled": true
   },
   "outputs": [
    {
     "data": {
      "text/html": [
       "<div>\n",
       "<style scoped>\n",
       "    .dataframe tbody tr th:only-of-type {\n",
       "        vertical-align: middle;\n",
       "    }\n",
       "\n",
       "    .dataframe tbody tr th {\n",
       "        vertical-align: top;\n",
       "    }\n",
       "\n",
       "    .dataframe thead th {\n",
       "        text-align: right;\n",
       "    }\n",
       "</style>\n",
       "<table border=\"1\" class=\"dataframe\">\n",
       "  <thead>\n",
       "    <tr style=\"text-align: right;\">\n",
       "      <th></th>\n",
       "      <th>1. open</th>\n",
       "      <th>2. high</th>\n",
       "      <th>3. low</th>\n",
       "      <th>4. close</th>\n",
       "      <th>5. volume</th>\n",
       "      <th>date</th>\n",
       "    </tr>\n",
       "    <tr>\n",
       "      <th>date</th>\n",
       "      <th></th>\n",
       "      <th></th>\n",
       "      <th></th>\n",
       "      <th></th>\n",
       "      <th></th>\n",
       "      <th></th>\n",
       "    </tr>\n",
       "  </thead>\n",
       "  <tbody>\n",
       "    <tr>\n",
       "      <td>2020-08-10</td>\n",
       "      <td>132.07</td>\n",
       "      <td>134.110</td>\n",
       "      <td>131.25</td>\n",
       "      <td>132.94</td>\n",
       "      <td>2959392.0</td>\n",
       "      <td>2020-08-10</td>\n",
       "    </tr>\n",
       "    <tr>\n",
       "      <td>2020-08-07</td>\n",
       "      <td>129.24</td>\n",
       "      <td>131.880</td>\n",
       "      <td>129.00</td>\n",
       "      <td>131.75</td>\n",
       "      <td>2303110.0</td>\n",
       "      <td>2020-08-07</td>\n",
       "    </tr>\n",
       "    <tr>\n",
       "      <td>2020-08-06</td>\n",
       "      <td>129.50</td>\n",
       "      <td>129.930</td>\n",
       "      <td>128.13</td>\n",
       "      <td>129.01</td>\n",
       "      <td>1979947.0</td>\n",
       "      <td>2020-08-06</td>\n",
       "    </tr>\n",
       "    <tr>\n",
       "      <td>2020-08-05</td>\n",
       "      <td>130.75</td>\n",
       "      <td>131.930</td>\n",
       "      <td>128.66</td>\n",
       "      <td>129.37</td>\n",
       "      <td>3692285.0</td>\n",
       "      <td>2020-08-05</td>\n",
       "    </tr>\n",
       "    <tr>\n",
       "      <td>2020-08-04</td>\n",
       "      <td>127.93</td>\n",
       "      <td>130.770</td>\n",
       "      <td>127.58</td>\n",
       "      <td>130.45</td>\n",
       "      <td>3924491.0</td>\n",
       "      <td>2020-08-04</td>\n",
       "    </tr>\n",
       "    <tr>\n",
       "      <td>...</td>\n",
       "      <td>...</td>\n",
       "      <td>...</td>\n",
       "      <td>...</td>\n",
       "      <td>...</td>\n",
       "      <td>...</td>\n",
       "      <td>...</td>\n",
       "    </tr>\n",
       "    <tr>\n",
       "      <td>2020-03-25</td>\n",
       "      <td>99.12</td>\n",
       "      <td>99.325</td>\n",
       "      <td>90.52</td>\n",
       "      <td>91.04</td>\n",
       "      <td>12552565.0</td>\n",
       "      <td>2020-03-25</td>\n",
       "    </tr>\n",
       "    <tr>\n",
       "      <td>2020-03-24</td>\n",
       "      <td>100.14</td>\n",
       "      <td>101.650</td>\n",
       "      <td>96.00</td>\n",
       "      <td>100.56</td>\n",
       "      <td>6497661.0</td>\n",
       "      <td>2020-03-24</td>\n",
       "    </tr>\n",
       "    <tr>\n",
       "      <td>2020-03-23</td>\n",
       "      <td>96.55</td>\n",
       "      <td>99.200</td>\n",
       "      <td>93.81</td>\n",
       "      <td>96.69</td>\n",
       "      <td>7103271.0</td>\n",
       "      <td>2020-03-23</td>\n",
       "    </tr>\n",
       "    <tr>\n",
       "      <td>2020-03-20</td>\n",
       "      <td>99.30</td>\n",
       "      <td>102.480</td>\n",
       "      <td>96.38</td>\n",
       "      <td>97.40</td>\n",
       "      <td>8056437.0</td>\n",
       "      <td>2020-03-20</td>\n",
       "    </tr>\n",
       "    <tr>\n",
       "      <td>2020-03-19</td>\n",
       "      <td>102.72</td>\n",
       "      <td>107.120</td>\n",
       "      <td>99.81</td>\n",
       "      <td>100.50</td>\n",
       "      <td>7407879.0</td>\n",
       "      <td>2020-03-19</td>\n",
       "    </tr>\n",
       "  </tbody>\n",
       "</table>\n",
       "<p>100 rows × 6 columns</p>\n",
       "</div>"
      ],
      "text/plain": [
       "            1. open  2. high  3. low  4. close   5. volume       date\n",
       "date                                                                 \n",
       "2020-08-10   132.07  134.110  131.25    132.94   2959392.0 2020-08-10\n",
       "2020-08-07   129.24  131.880  129.00    131.75   2303110.0 2020-08-07\n",
       "2020-08-06   129.50  129.930  128.13    129.01   1979947.0 2020-08-06\n",
       "2020-08-05   130.75  131.930  128.66    129.37   3692285.0 2020-08-05\n",
       "2020-08-04   127.93  130.770  127.58    130.45   3924491.0 2020-08-04\n",
       "...             ...      ...     ...       ...         ...        ...\n",
       "2020-03-25    99.12   99.325   90.52     91.04  12552565.0 2020-03-25\n",
       "2020-03-24   100.14  101.650   96.00    100.56   6497661.0 2020-03-24\n",
       "2020-03-23    96.55   99.200   93.81     96.69   7103271.0 2020-03-23\n",
       "2020-03-20    99.30  102.480   96.38     97.40   8056437.0 2020-03-20\n",
       "2020-03-19   102.72  107.120   99.81    100.50   7407879.0 2020-03-19\n",
       "\n",
       "[100 rows x 6 columns]"
      ]
     },
     "execution_count": 23,
     "metadata": {},
     "output_type": "execute_result"
    }
   ],
   "source": [
    "GOOGL_data2"
   ]
  },
  {
   "cell_type": "code",
   "execution_count": 24,
   "metadata": {},
   "outputs": [],
   "source": [
    "GOOGL_testing_complete = pd.read_csv('/Users/kelbywilson/Desktop/project_3/GOOGL_data2.csv')\n",
    "GOOGL_testing_processed = GOOGL_testing_complete.iloc[:, 1:2].values"
   ]
  },
  {
   "cell_type": "code",
   "execution_count": 25,
   "metadata": {},
   "outputs": [],
   "source": [
    "GOOGL_total = pd.concat((GOOGL_training_complete['1. open'], GOOGL_testing_complete['1. open']), axis=0)"
   ]
  },
  {
   "cell_type": "code",
   "execution_count": 26,
   "metadata": {},
   "outputs": [],
   "source": [
    "test_inputs = GOOGL_total[len(GOOGL_total) - len(GOOGL_testing_complete) - 60:].values"
   ]
  },
  {
   "cell_type": "code",
   "execution_count": 27,
   "metadata": {},
   "outputs": [],
   "source": [
    "test_inputs = test_inputs.reshape(-1,1)\n",
    "test_inputs = scaler.transform(test_inputs)"
   ]
  },
  {
   "cell_type": "code",
   "execution_count": 28,
   "metadata": {},
   "outputs": [],
   "source": [
    "test_features = []\n",
    "for i in range(60, 80):\n",
    "    test_features.append(test_inputs[i-60:i, 0])"
   ]
  },
  {
   "cell_type": "code",
   "execution_count": 29,
   "metadata": {},
   "outputs": [],
   "source": [
    "test_features = np.array(test_features)\n",
    "test_features = np.reshape(test_features, (test_features.shape[0], test_features.shape[1], 1))"
   ]
  },
  {
   "cell_type": "code",
   "execution_count": 30,
   "metadata": {},
   "outputs": [],
   "source": [
    "predictions = model.predict(test_features)"
   ]
  },
  {
   "cell_type": "code",
   "execution_count": 31,
   "metadata": {},
   "outputs": [],
   "source": [
    "predictions = scaler.inverse_transform(predictions)"
   ]
  },
  {
   "cell_type": "code",
   "execution_count": 32,
   "metadata": {},
   "outputs": [
    {
     "data": {
      "image/png": "[encoded data removed]",
      "text/plain": [
       "<Figure size 720x432 with 1 Axes>"
      ]
     },
     "metadata": {
      "needs_background": "light"
     },
     "output_type": "display_data"
    }
   ],
   "source": [
    "# Plot the results -model trained with 100 epochs \n",
    "plt.figure(figsize=(10,6))\n",
    "plt.plot(GOOGL_testing_processed, color='blue', label='Actual Target Stock Price')\n",
    "plt.plot(predictions , color='red', label='Predicted Target Stock Price')\n",
    "plt.title('Target Stock Price Prediction')\n",
    "plt.xlabel('Date')\n",
    "plt.ylabel('Target Stock Price')\n",
    "plt.legend()\n",
    "plt.show()"
   ]
  },
  {
   "cell_type": "code",
   "execution_count": null,
   "metadata": {},
   "outputs": [],
   "source": []
  },
  {
   "cell_type": "code",
   "execution_count": null,
   "metadata": {},
   "outputs": [],
   "source": []
  }
 ],
 "metadata": {
  "kernelspec": {
   "display_name": "Python 3",
   "language": "python",
   "name": "python3"
  },
  "language_info": {
   "codemirror_mode": {
    "name": "ipython",
    "version": 3
   },
   "file_extension": ".py",
   "mimetype": "text/x-python",
   "name": "python",
   "nbconvert_exporter": "python",
   "pygments_lexer": "ipython3",
   "version": "3.7.4"
  }
 },
 "nbformat": 4,
 "nbformat_minor": 2
}
