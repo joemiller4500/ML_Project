{
 "cells": [
  {
   "cell_type": "code",
   "execution_count": 1,
   "metadata": {},
   "outputs": [],
   "source": [
    "import numpy as np\n",
    "import pandas as pd\n",
    "import matplotlib.pyplot as plt\n",
    "from alpha_vantage.timeseries import TimeSeries\n",
    "import matplotlib.pyplot as plt\n",
    "ts = TimeSeries(key='2J2BP2H90CUIBWSJ',output_format='pandas')"
   ]
  },
  {
   "cell_type": "code",
   "execution_count": 2,
   "metadata": {},
   "outputs": [
    {
     "data": {
      "text/html": [
       "<div>\n",
       "<style scoped>\n",
       "    .dataframe tbody tr th:only-of-type {\n",
       "        vertical-align: middle;\n",
       "    }\n",
       "\n",
       "    .dataframe tbody tr th {\n",
       "        vertical-align: top;\n",
       "    }\n",
       "\n",
       "    .dataframe thead th {\n",
       "        text-align: right;\n",
       "    }\n",
       "</style>\n",
       "<table border=\"1\" class=\"dataframe\">\n",
       "  <thead>\n",
       "    <tr style=\"text-align: right;\">\n",
       "      <th></th>\n",
       "      <th>1. open</th>\n",
       "      <th>2. high</th>\n",
       "      <th>3. low</th>\n",
       "      <th>4. close</th>\n",
       "      <th>5. volume</th>\n",
       "    </tr>\n",
       "  </thead>\n",
       "  <tbody>\n",
       "    <tr>\n",
       "      <td>count</td>\n",
       "      <td>5226.000000</td>\n",
       "      <td>5226.000000</td>\n",
       "      <td>5226.000000</td>\n",
       "      <td>5226.000000</td>\n",
       "      <td>5.226000e+03</td>\n",
       "    </tr>\n",
       "    <tr>\n",
       "      <td>mean</td>\n",
       "      <td>56.091725</td>\n",
       "      <td>56.611333</td>\n",
       "      <td>55.535068</td>\n",
       "      <td>56.095625</td>\n",
       "      <td>9.433350e+06</td>\n",
       "    </tr>\n",
       "    <tr>\n",
       "      <td>std</td>\n",
       "      <td>37.213090</td>\n",
       "      <td>37.432899</td>\n",
       "      <td>36.931040</td>\n",
       "      <td>37.185586</td>\n",
       "      <td>5.785021e+06</td>\n",
       "    </tr>\n",
       "    <tr>\n",
       "      <td>min</td>\n",
       "      <td>13.800000</td>\n",
       "      <td>14.100000</td>\n",
       "      <td>13.480000</td>\n",
       "      <td>13.770000</td>\n",
       "      <td>1.487900e+06</td>\n",
       "    </tr>\n",
       "    <tr>\n",
       "      <td>25%</td>\n",
       "      <td>27.270000</td>\n",
       "      <td>27.650000</td>\n",
       "      <td>26.965000</td>\n",
       "      <td>27.292500</td>\n",
       "      <td>6.120075e+06</td>\n",
       "    </tr>\n",
       "    <tr>\n",
       "      <td>50%</td>\n",
       "      <td>35.500000</td>\n",
       "      <td>35.945000</td>\n",
       "      <td>35.110000</td>\n",
       "      <td>35.490000</td>\n",
       "      <td>8.003400e+06</td>\n",
       "    </tr>\n",
       "    <tr>\n",
       "      <td>75%</td>\n",
       "      <td>95.302500</td>\n",
       "      <td>96.265000</td>\n",
       "      <td>94.445000</td>\n",
       "      <td>95.187500</td>\n",
       "      <td>1.098850e+07</td>\n",
       "    </tr>\n",
       "    <tr>\n",
       "      <td>max</td>\n",
       "      <td>152.940000</td>\n",
       "      <td>153.410000</td>\n",
       "      <td>151.150000</td>\n",
       "      <td>151.640000</td>\n",
       "      <td>1.166250e+08</td>\n",
       "    </tr>\n",
       "  </tbody>\n",
       "</table>\n",
       "</div>"
      ],
      "text/plain": [
       "           1. open      2. high       3. low     4. close     5. volume\n",
       "count  5226.000000  5226.000000  5226.000000  5226.000000  5.226000e+03\n",
       "mean     56.091725    56.611333    55.535068    56.095625  9.433350e+06\n",
       "std      37.213090    37.432899    36.931040    37.185586  5.785021e+06\n",
       "min      13.800000    14.100000    13.480000    13.770000  1.487900e+06\n",
       "25%      27.270000    27.650000    26.965000    27.292500  6.120075e+06\n",
       "50%      35.500000    35.945000    35.110000    35.490000  8.003400e+06\n",
       "75%      95.302500    96.265000    94.445000    95.187500  1.098850e+07\n",
       "max     152.940000   153.410000   151.150000   151.640000  1.166250e+08"
      ]
     },
     "execution_count": 2,
     "metadata": {},
     "output_type": "execute_result"
    }
   ],
   "source": [
    "DIS_data, metadata=ts.get_daily('DIS',outputsize='full')\n",
    "DIS_data.describe()"
   ]
  },
  {
   "cell_type": "code",
   "execution_count": 3,
   "metadata": {},
   "outputs": [],
   "source": [
    "DIS_data.to_csv('DIS_data.csv')"
   ]
  },
  {
   "cell_type": "code",
   "execution_count": 4,
   "metadata": {},
   "outputs": [],
   "source": [
    "DIS_data['date'] = DIS_data.index"
   ]
  },
  {
   "cell_type": "code",
   "execution_count": 5,
   "metadata": {},
   "outputs": [
    {
     "data": {
      "text/html": [
       "<div>\n",
       "<style scoped>\n",
       "    .dataframe tbody tr th:only-of-type {\n",
       "        vertical-align: middle;\n",
       "    }\n",
       "\n",
       "    .dataframe tbody tr th {\n",
       "        vertical-align: top;\n",
       "    }\n",
       "\n",
       "    .dataframe thead th {\n",
       "        text-align: right;\n",
       "    }\n",
       "</style>\n",
       "<table border=\"1\" class=\"dataframe\">\n",
       "  <thead>\n",
       "    <tr style=\"text-align: right;\">\n",
       "      <th></th>\n",
       "      <th>1. open</th>\n",
       "      <th>2. high</th>\n",
       "      <th>3. low</th>\n",
       "      <th>4. close</th>\n",
       "      <th>5. volume</th>\n",
       "      <th>date</th>\n",
       "    </tr>\n",
       "    <tr>\n",
       "      <th>date</th>\n",
       "      <th></th>\n",
       "      <th></th>\n",
       "      <th></th>\n",
       "      <th></th>\n",
       "      <th></th>\n",
       "      <th></th>\n",
       "    </tr>\n",
       "  </thead>\n",
       "  <tbody>\n",
       "    <tr>\n",
       "      <td>2020-08-07</td>\n",
       "      <td>130.22</td>\n",
       "      <td>131.94</td>\n",
       "      <td>128.66</td>\n",
       "      <td>129.93</td>\n",
       "      <td>16088579.0</td>\n",
       "      <td>2020-08-07</td>\n",
       "    </tr>\n",
       "    <tr>\n",
       "      <td>2020-08-06</td>\n",
       "      <td>126.96</td>\n",
       "      <td>131.63</td>\n",
       "      <td>125.61</td>\n",
       "      <td>130.82</td>\n",
       "      <td>27237996.0</td>\n",
       "      <td>2020-08-06</td>\n",
       "    </tr>\n",
       "    <tr>\n",
       "      <td>2020-08-05</td>\n",
       "      <td>123.37</td>\n",
       "      <td>130.31</td>\n",
       "      <td>123.28</td>\n",
       "      <td>127.61</td>\n",
       "      <td>53122394.0</td>\n",
       "      <td>2020-08-05</td>\n",
       "    </tr>\n",
       "    <tr>\n",
       "      <td>2020-08-04</td>\n",
       "      <td>115.96</td>\n",
       "      <td>118.35</td>\n",
       "      <td>115.76</td>\n",
       "      <td>117.29</td>\n",
       "      <td>17293923.0</td>\n",
       "      <td>2020-08-04</td>\n",
       "    </tr>\n",
       "    <tr>\n",
       "      <td>2020-08-03</td>\n",
       "      <td>116.17</td>\n",
       "      <td>117.12</td>\n",
       "      <td>115.35</td>\n",
       "      <td>116.35</td>\n",
       "      <td>10229172.0</td>\n",
       "      <td>2020-08-03</td>\n",
       "    </tr>\n",
       "    <tr>\n",
       "      <td>...</td>\n",
       "      <td>...</td>\n",
       "      <td>...</td>\n",
       "      <td>...</td>\n",
       "      <td>...</td>\n",
       "      <td>...</td>\n",
       "      <td>...</td>\n",
       "    </tr>\n",
       "    <tr>\n",
       "      <td>1999-11-05</td>\n",
       "      <td>25.50</td>\n",
       "      <td>25.50</td>\n",
       "      <td>24.06</td>\n",
       "      <td>24.31</td>\n",
       "      <td>26165000.0</td>\n",
       "      <td>1999-11-05</td>\n",
       "    </tr>\n",
       "    <tr>\n",
       "      <td>1999-11-04</td>\n",
       "      <td>27.75</td>\n",
       "      <td>29.00</td>\n",
       "      <td>26.00</td>\n",
       "      <td>26.50</td>\n",
       "      <td>13492400.0</td>\n",
       "      <td>1999-11-04</td>\n",
       "    </tr>\n",
       "    <tr>\n",
       "      <td>1999-11-03</td>\n",
       "      <td>27.38</td>\n",
       "      <td>27.38</td>\n",
       "      <td>26.69</td>\n",
       "      <td>26.88</td>\n",
       "      <td>8196800.0</td>\n",
       "      <td>1999-11-03</td>\n",
       "    </tr>\n",
       "    <tr>\n",
       "      <td>1999-11-02</td>\n",
       "      <td>25.56</td>\n",
       "      <td>26.31</td>\n",
       "      <td>25.50</td>\n",
       "      <td>26.25</td>\n",
       "      <td>6240800.0</td>\n",
       "      <td>1999-11-02</td>\n",
       "    </tr>\n",
       "    <tr>\n",
       "      <td>1999-11-01</td>\n",
       "      <td>25.31</td>\n",
       "      <td>26.06</td>\n",
       "      <td>24.94</td>\n",
       "      <td>25.69</td>\n",
       "      <td>7585800.0</td>\n",
       "      <td>1999-11-01</td>\n",
       "    </tr>\n",
       "  </tbody>\n",
       "</table>\n",
       "<p>5226 rows × 6 columns</p>\n",
       "</div>"
      ],
      "text/plain": [
       "            1. open  2. high  3. low  4. close   5. volume       date\n",
       "date                                                                 \n",
       "2020-08-07   130.22   131.94  128.66    129.93  16088579.0 2020-08-07\n",
       "2020-08-06   126.96   131.63  125.61    130.82  27237996.0 2020-08-06\n",
       "2020-08-05   123.37   130.31  123.28    127.61  53122394.0 2020-08-05\n",
       "2020-08-04   115.96   118.35  115.76    117.29  17293923.0 2020-08-04\n",
       "2020-08-03   116.17   117.12  115.35    116.35  10229172.0 2020-08-03\n",
       "...             ...      ...     ...       ...         ...        ...\n",
       "1999-11-05    25.50    25.50   24.06     24.31  26165000.0 1999-11-05\n",
       "1999-11-04    27.75    29.00   26.00     26.50  13492400.0 1999-11-04\n",
       "1999-11-03    27.38    27.38   26.69     26.88   8196800.0 1999-11-03\n",
       "1999-11-02    25.56    26.31   25.50     26.25   6240800.0 1999-11-02\n",
       "1999-11-01    25.31    26.06   24.94     25.69   7585800.0 1999-11-01\n",
       "\n",
       "[5226 rows x 6 columns]"
      ]
     },
     "execution_count": 5,
     "metadata": {},
     "output_type": "execute_result"
    }
   ],
   "source": [
    "DIS_data"
   ]
  },
  {
   "cell_type": "code",
   "execution_count": 6,
   "metadata": {},
   "outputs": [],
   "source": [
    "DIS_training_complete = pd.read_csv('/Users/kelbywilson/Desktop/project_3/DIS_data.csv')"
   ]
  },
  {
   "cell_type": "code",
   "execution_count": 10,
   "metadata": {},
   "outputs": [],
   "source": [
    "DIS_training_processed = DIS_training_complete.iloc[:, 1:2].values"
   ]
  },
  {
   "cell_type": "code",
   "execution_count": 13,
   "metadata": {},
   "outputs": [],
   "source": [
    "from sklearn.preprocessing import MinMaxScaler\n",
    "scaler = MinMaxScaler(feature_range = (0, 1))\n",
    "\n",
    "DIS_training_scaled = scaler.fit_transform(DIS_training_processed)"
   ]
  },
  {
   "cell_type": "code",
   "execution_count": 14,
   "metadata": {},
   "outputs": [],
   "source": [
    "features_set = []\n",
    "labels = []\n",
    "for i in range(60, 5226):\n",
    "    features_set.append(DIS_training_scaled[i-60:i, 0])\n",
    "    labels.append(DIS_training_scaled[i, 0])"
   ]
  },
  {
   "cell_type": "code",
   "execution_count": 15,
   "metadata": {},
   "outputs": [],
   "source": [
    "# Convert both the feature_set and the labels list to the numpy array before we can use it for training\n",
    "features_set, labels = np.array(features_set), np.array(labels)"
   ]
  },
  {
   "cell_type": "code",
   "execution_count": 16,
   "metadata": {},
   "outputs": [],
   "source": [
    "# In order to train LSTM on our data, we need to convert our data into the shape accepted by the LSTM.\n",
    "# We need to convert our data into three-dimensional format\n",
    "features_set = np.reshape(features_set, (features_set.shape[0], features_set.shape[1], 1))"
   ]
  },
  {
   "cell_type": "code",
   "execution_count": 17,
   "metadata": {},
   "outputs": [],
   "source": [
    "from tensorflow.keras.models import Sequential\n",
    "from tensorflow.keras.layers import Dense\n",
    "from tensorflow.keras.layers import LSTM\n",
    "from tensorflow.keras.layers import Dropout"
   ]
  },
  {
   "cell_type": "code",
   "execution_count": 18,
   "metadata": {},
   "outputs": [],
   "source": [
    "model = Sequential()"
   ]
  },
  {
   "cell_type": "code",
   "execution_count": 19,
   "metadata": {},
   "outputs": [
    {
     "name": "stdout",
     "output_type": "stream",
     "text": [
      "WARNING:tensorflow:From /Users/kelbywilson/opt/anaconda3/lib/python3.7/site-packages/tensorflow_core/python/ops/resource_variable_ops.py:1630: calling BaseResourceVariable.__init__ (from tensorflow.python.ops.resource_variable_ops) with constraint is deprecated and will be removed in a future version.\n",
      "Instructions for updating:\n",
      "If using Keras pass *_constraint arguments to layers.\n"
     ]
    }
   ],
   "source": [
    "model.add(LSTM(units=50, return_sequences=True, input_shape=(features_set.shape[1], 1)))"
   ]
  },
  {
   "cell_type": "code",
   "execution_count": 20,
   "metadata": {},
   "outputs": [],
   "source": [
    "# Add dropout layer to avoid overfitting of the data\n",
    "model.add(Dropout(0.2))"
   ]
  },
  {
   "cell_type": "code",
   "execution_count": 21,
   "metadata": {},
   "outputs": [],
   "source": [
    "model.add(LSTM(units=50, return_sequences=True))\n",
    "model.add(Dropout(0.2))\n",
    "\n",
    "model.add(LSTM(units=50, return_sequences=True))\n",
    "model.add(Dropout(0.2))\n",
    "\n",
    "model.add(LSTM(units=50))\n",
    "model.add(Dropout(0.2))"
   ]
  },
  {
   "cell_type": "code",
   "execution_count": 22,
   "metadata": {},
   "outputs": [],
   "source": [
    "# To make our model more robust we add a dense layer\n",
    "model.add(Dense(units = 1))"
   ]
  },
  {
   "cell_type": "code",
   "execution_count": 23,
   "metadata": {},
   "outputs": [],
   "source": [
    "model.compile(optimizer = 'adam', loss = 'mean_squared_error')"
   ]
  },
  {
   "cell_type": "code",
   "execution_count": 24,
   "metadata": {},
   "outputs": [
    {
     "name": "stdout",
     "output_type": "stream",
     "text": [
      "WARNING:tensorflow:From /Users/kelbywilson/opt/anaconda3/lib/python3.7/site-packages/tensorflow_core/python/ops/math_grad.py:1424: where (from tensorflow.python.ops.array_ops) is deprecated and will be removed in a future version.\n",
      "Instructions for updating:\n",
      "Use tf.where in 2.0, which has the same broadcast rule as np.where\n",
      "Train on 5166 samples\n",
      "Epoch 1/50\n",
      "5166/5166 [==============================] - 26s 5ms/sample - loss: 0.0085\n",
      "Epoch 2/50\n",
      "5166/5166 [==============================] - 25s 5ms/sample - loss: 0.0021\n",
      "Epoch 3/50\n",
      "5166/5166 [==============================] - 27s 5ms/sample - loss: 0.0020\n",
      "Epoch 4/50\n",
      "5166/5166 [==============================] - 25s 5ms/sample - loss: 0.0017\n",
      "Epoch 5/50\n",
      "5166/5166 [==============================] - 24s 5ms/sample - loss: 0.0017\n",
      "Epoch 6/50\n",
      "5166/5166 [==============================] - 24s 5ms/sample - loss: 0.0017\n",
      "Epoch 7/50\n",
      "5166/5166 [==============================] - 23s 5ms/sample - loss: 0.0015\n",
      "Epoch 8/50\n",
      "5166/5166 [==============================] - 23s 5ms/sample - loss: 0.0013\n",
      "Epoch 9/50\n",
      "5166/5166 [==============================] - 23s 5ms/sample - loss: 0.0013\n",
      "Epoch 10/50\n",
      "5166/5166 [==============================] - 24s 5ms/sample - loss: 0.0011\n",
      "Epoch 11/50\n",
      "5166/5166 [==============================] - 24s 5ms/sample - loss: 0.0011\n",
      "Epoch 12/50\n",
      "5166/5166 [==============================] - 24s 5ms/sample - loss: 0.0011\n",
      "Epoch 13/50\n",
      "5166/5166 [==============================] - 24s 5ms/sample - loss: 0.0011\n",
      "Epoch 14/50\n",
      "5166/5166 [==============================] - 23s 5ms/sample - loss: 9.9961e-04\n",
      "Epoch 15/50\n",
      "5166/5166 [==============================] - 24s 5ms/sample - loss: 9.3412e-04\n",
      "Epoch 16/50\n",
      "5166/5166 [==============================] - 23s 4ms/sample - loss: 9.4572e-04\n",
      "Epoch 17/50\n",
      "5166/5166 [==============================] - 24s 5ms/sample - loss: 0.0010\n",
      "Epoch 18/50\n",
      "5166/5166 [==============================] - 23s 4ms/sample - loss: 9.8210e-04\n",
      "Epoch 19/50\n",
      "5166/5166 [==============================] - 24s 5ms/sample - loss: 8.8692e-04\n",
      "Epoch 20/50\n",
      "5166/5166 [==============================] - 24s 5ms/sample - loss: 9.2203e-04\n",
      "Epoch 21/50\n",
      "5166/5166 [==============================] - 26s 5ms/sample - loss: 8.9187e-04\n",
      "Epoch 22/50\n",
      "5166/5166 [==============================] - 25s 5ms/sample - loss: 8.6587e-04\n",
      "Epoch 23/50\n",
      "5166/5166 [==============================] - 29s 6ms/sample - loss: 7.8105e-04\n",
      "Epoch 24/50\n",
      "5166/5166 [==============================] - 24s 5ms/sample - loss: 8.3988e-04\n",
      "Epoch 25/50\n",
      "5166/5166 [==============================] - 24s 5ms/sample - loss: 9.1505e-04\n",
      "Epoch 26/50\n",
      "5166/5166 [==============================] - 24s 5ms/sample - loss: 8.1750e-04\n",
      "Epoch 27/50\n",
      "5166/5166 [==============================] - 25s 5ms/sample - loss: 7.6345e-04\n",
      "Epoch 28/50\n",
      "5166/5166 [==============================] - 25s 5ms/sample - loss: 8.3684e-04\n",
      "Epoch 29/50\n",
      "5166/5166 [==============================] - 25s 5ms/sample - loss: 8.0481e-04\n",
      "Epoch 30/50\n",
      "5166/5166 [==============================] - 24s 5ms/sample - loss: 7.9963e-04\n",
      "Epoch 31/50\n",
      "5166/5166 [==============================] - 24s 5ms/sample - loss: 7.8465e-04\n",
      "Epoch 32/50\n",
      "5166/5166 [==============================] - 25s 5ms/sample - loss: 8.5291e-04\n",
      "Epoch 33/50\n",
      "5166/5166 [==============================] - 24s 5ms/sample - loss: 8.1157e-04\n",
      "Epoch 34/50\n",
      "5166/5166 [==============================] - 24s 5ms/sample - loss: 7.5084e-04\n",
      "Epoch 35/50\n",
      "5166/5166 [==============================] - 23s 5ms/sample - loss: 7.7662e-04\n",
      "Epoch 36/50\n",
      "5166/5166 [==============================] - 23s 5ms/sample - loss: 8.0633e-04\n",
      "Epoch 37/50\n",
      "5166/5166 [==============================] - 23s 4ms/sample - loss: 7.4979e-04\n",
      "Epoch 38/50\n",
      "5166/5166 [==============================] - 23s 5ms/sample - loss: 7.6615e-04\n",
      "Epoch 39/50\n",
      "5166/5166 [==============================] - 23s 5ms/sample - loss: 7.1503e-04\n",
      "Epoch 40/50\n",
      "5166/5166 [==============================] - 23s 5ms/sample - loss: 8.3467e-04\n",
      "Epoch 41/50\n",
      "5166/5166 [==============================] - 23s 5ms/sample - loss: 7.4597e-04\n",
      "Epoch 42/50\n",
      "5166/5166 [==============================] - 23s 4ms/sample - loss: 6.9494e-04\n",
      "Epoch 43/50\n",
      "5166/5166 [==============================] - 23s 4ms/sample - loss: 7.2299e-04\n",
      "Epoch 44/50\n",
      "5166/5166 [==============================] - 23s 5ms/sample - loss: 7.4345e-04\n",
      "Epoch 45/50\n",
      "5166/5166 [==============================] - 23s 5ms/sample - loss: 7.0812e-04\n",
      "Epoch 46/50\n",
      "5166/5166 [==============================] - 24s 5ms/sample - loss: 6.7583e-04\n",
      "Epoch 47/50\n",
      "5166/5166 [==============================] - 24s 5ms/sample - loss: 7.2057e-04\n",
      "Epoch 48/50\n",
      "5166/5166 [==============================] - 23s 5ms/sample - loss: 7.7924e-04\n",
      "Epoch 49/50\n",
      "5166/5166 [==============================] - 24s 5ms/sample - loss: 7.2618e-04\n",
      "Epoch 50/50\n",
      "5166/5166 [==============================] - 23s 5ms/sample - loss: 6.5676e-04\n"
     ]
    },
    {
     "data": {
      "text/plain": [
       "<tensorflow.python.keras.callbacks.History at 0x7fd1517bbbd0>"
      ]
     },
     "execution_count": 24,
     "metadata": {},
     "output_type": "execute_result"
    }
   ],
   "source": [
    "model.fit(features_set, labels, epochs = 50, batch_size = 32)"
   ]
  },
  {
   "cell_type": "code",
   "execution_count": null,
   "metadata": {},
   "outputs": [],
   "source": []
  }
 ],
 "metadata": {
  "kernelspec": {
   "display_name": "Python 3",
   "language": "python",
   "name": "python3"
  },
  "language_info": {
   "codemirror_mode": {
    "name": "ipython",
    "version": 3
   },
   "file_extension": ".py",
   "mimetype": "text/x-python",
   "name": "python",
   "nbconvert_exporter": "python",
   "pygments_lexer": "ipython3",
   "version": "3.7.4"
  }
 },
 "nbformat": 4,
 "nbformat_minor": 2
}
