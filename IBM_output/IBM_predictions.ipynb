{
 "cells": [
  {
   "cell_type": "code",
   "execution_count": 26,
   "metadata": {},
   "outputs": [],
   "source": [
    "import numpy as np\n",
    "import pandas as pd\n",
    "import matplotlib.pyplot as plt\n",
    "from alpha_vantage.timeseries import TimeSeries\n",
    "import matplotlib.pyplot as plt\n",
    "ts = TimeSeries(key='2J2BP2H90CUIBWSJ',output_format='pandas')"
   ]
  },
  {
   "cell_type": "code",
   "execution_count": 3,
   "metadata": {},
   "outputs": [
    {
     "data": {
      "text/html": [
       "<div>\n",
       "<style scoped>\n",
       "    .dataframe tbody tr th:only-of-type {\n",
       "        vertical-align: middle;\n",
       "    }\n",
       "\n",
       "    .dataframe tbody tr th {\n",
       "        vertical-align: top;\n",
       "    }\n",
       "\n",
       "    .dataframe thead th {\n",
       "        text-align: right;\n",
       "    }\n",
       "</style>\n",
       "<table border=\"1\" class=\"dataframe\">\n",
       "  <thead>\n",
       "    <tr style=\"text-align: right;\">\n",
       "      <th></th>\n",
       "      <th>1. open</th>\n",
       "      <th>2. high</th>\n",
       "      <th>3. low</th>\n",
       "      <th>4. close</th>\n",
       "      <th>5. volume</th>\n",
       "    </tr>\n",
       "  </thead>\n",
       "  <tbody>\n",
       "    <tr>\n",
       "      <td>count</td>\n",
       "      <td>5225.000000</td>\n",
       "      <td>5225.000000</td>\n",
       "      <td>5225.000000</td>\n",
       "      <td>5225.000000</td>\n",
       "      <td>5.225000e+03</td>\n",
       "    </tr>\n",
       "    <tr>\n",
       "      <td>mean</td>\n",
       "      <td>129.150949</td>\n",
       "      <td>130.327317</td>\n",
       "      <td>128.053882</td>\n",
       "      <td>129.209325</td>\n",
       "      <td>6.121689e+06</td>\n",
       "    </tr>\n",
       "    <tr>\n",
       "      <td>std</td>\n",
       "      <td>37.821068</td>\n",
       "      <td>37.879554</td>\n",
       "      <td>37.769428</td>\n",
       "      <td>37.830221</td>\n",
       "      <td>3.313863e+06</td>\n",
       "    </tr>\n",
       "    <tr>\n",
       "      <td>min</td>\n",
       "      <td>54.650000</td>\n",
       "      <td>56.700000</td>\n",
       "      <td>54.010000</td>\n",
       "      <td>55.070000</td>\n",
       "      <td>1.928430e+05</td>\n",
       "    </tr>\n",
       "    <tr>\n",
       "      <td>25%</td>\n",
       "      <td>94.950000</td>\n",
       "      <td>95.910000</td>\n",
       "      <td>93.800000</td>\n",
       "      <td>94.890000</td>\n",
       "      <td>3.871000e+06</td>\n",
       "    </tr>\n",
       "    <tr>\n",
       "      <td>50%</td>\n",
       "      <td>124.320000</td>\n",
       "      <td>125.750000</td>\n",
       "      <td>123.010000</td>\n",
       "      <td>124.490000</td>\n",
       "      <td>5.293400e+06</td>\n",
       "    </tr>\n",
       "    <tr>\n",
       "      <td>75%</td>\n",
       "      <td>157.660000</td>\n",
       "      <td>159.140000</td>\n",
       "      <td>156.330000</td>\n",
       "      <td>157.890000</td>\n",
       "      <td>7.431800e+06</td>\n",
       "    </tr>\n",
       "    <tr>\n",
       "      <td>max</td>\n",
       "      <td>215.380000</td>\n",
       "      <td>215.900000</td>\n",
       "      <td>214.300000</td>\n",
       "      <td>215.800000</td>\n",
       "      <td>4.120730e+07</td>\n",
       "    </tr>\n",
       "  </tbody>\n",
       "</table>\n",
       "</div>"
      ],
      "text/plain": [
       "           1. open      2. high       3. low     4. close     5. volume\n",
       "count  5225.000000  5225.000000  5225.000000  5225.000000  5.225000e+03\n",
       "mean    129.150949   130.327317   128.053882   129.209325  6.121689e+06\n",
       "std      37.821068    37.879554    37.769428    37.830221  3.313863e+06\n",
       "min      54.650000    56.700000    54.010000    55.070000  1.928430e+05\n",
       "25%      94.950000    95.910000    93.800000    94.890000  3.871000e+06\n",
       "50%     124.320000   125.750000   123.010000   124.490000  5.293400e+06\n",
       "75%     157.660000   159.140000   156.330000   157.890000  7.431800e+06\n",
       "max     215.380000   215.900000   214.300000   215.800000  4.120730e+07"
      ]
     },
     "execution_count": 3,
     "metadata": {},
     "output_type": "execute_result"
    }
   ],
   "source": [
    "IBM_data, metadata=ts.get_daily('IBM',outputsize='full')\n",
    "IBM_data.describe()"
   ]
  },
  {
   "cell_type": "code",
   "execution_count": 6,
   "metadata": {},
   "outputs": [],
   "source": [
    "IBM_data.to_csv('IBM_data.csv')"
   ]
  },
  {
   "cell_type": "code",
   "execution_count": 7,
   "metadata": {},
   "outputs": [],
   "source": [
    "IBM_data['date'] = IBM_data.index"
   ]
  },
  {
   "cell_type": "code",
   "execution_count": 8,
   "metadata": {},
   "outputs": [
    {
     "data": {
      "text/html": [
       "<div>\n",
       "<style scoped>\n",
       "    .dataframe tbody tr th:only-of-type {\n",
       "        vertical-align: middle;\n",
       "    }\n",
       "\n",
       "    .dataframe tbody tr th {\n",
       "        vertical-align: top;\n",
       "    }\n",
       "\n",
       "    .dataframe thead th {\n",
       "        text-align: right;\n",
       "    }\n",
       "</style>\n",
       "<table border=\"1\" class=\"dataframe\">\n",
       "  <thead>\n",
       "    <tr style=\"text-align: right;\">\n",
       "      <th></th>\n",
       "      <th>1. open</th>\n",
       "      <th>2. high</th>\n",
       "      <th>3. low</th>\n",
       "      <th>4. close</th>\n",
       "      <th>5. volume</th>\n",
       "      <th>date</th>\n",
       "    </tr>\n",
       "    <tr>\n",
       "      <th>date</th>\n",
       "      <th></th>\n",
       "      <th></th>\n",
       "      <th></th>\n",
       "      <th></th>\n",
       "      <th></th>\n",
       "      <th></th>\n",
       "    </tr>\n",
       "  </thead>\n",
       "  <tbody>\n",
       "    <tr>\n",
       "      <td>2020-08-06</td>\n",
       "      <td>125.00</td>\n",
       "      <td>126.26</td>\n",
       "      <td>125.00</td>\n",
       "      <td>126.12</td>\n",
       "      <td>3417131.0</td>\n",
       "      <td>2020-08-06</td>\n",
       "    </tr>\n",
       "    <tr>\n",
       "      <td>2020-08-05</td>\n",
       "      <td>126.73</td>\n",
       "      <td>126.75</td>\n",
       "      <td>124.61</td>\n",
       "      <td>125.45</td>\n",
       "      <td>3675400.0</td>\n",
       "      <td>2020-08-05</td>\n",
       "    </tr>\n",
       "    <tr>\n",
       "      <td>2020-08-04</td>\n",
       "      <td>123.82</td>\n",
       "      <td>125.86</td>\n",
       "      <td>123.82</td>\n",
       "      <td>125.84</td>\n",
       "      <td>3431366.0</td>\n",
       "      <td>2020-08-04</td>\n",
       "    </tr>\n",
       "    <tr>\n",
       "      <td>2020-08-03</td>\n",
       "      <td>123.50</td>\n",
       "      <td>124.41</td>\n",
       "      <td>122.15</td>\n",
       "      <td>124.31</td>\n",
       "      <td>3526574.0</td>\n",
       "      <td>2020-08-03</td>\n",
       "    </tr>\n",
       "    <tr>\n",
       "      <td>2020-07-31</td>\n",
       "      <td>122.71</td>\n",
       "      <td>122.99</td>\n",
       "      <td>121.09</td>\n",
       "      <td>122.94</td>\n",
       "      <td>5277652.0</td>\n",
       "      <td>2020-07-31</td>\n",
       "    </tr>\n",
       "    <tr>\n",
       "      <td>...</td>\n",
       "      <td>...</td>\n",
       "      <td>...</td>\n",
       "      <td>...</td>\n",
       "      <td>...</td>\n",
       "      <td>...</td>\n",
       "      <td>...</td>\n",
       "    </tr>\n",
       "    <tr>\n",
       "      <td>1999-11-05</td>\n",
       "      <td>92.75</td>\n",
       "      <td>92.94</td>\n",
       "      <td>90.19</td>\n",
       "      <td>90.25</td>\n",
       "      <td>13737600.0</td>\n",
       "      <td>1999-11-05</td>\n",
       "    </tr>\n",
       "    <tr>\n",
       "      <td>1999-11-04</td>\n",
       "      <td>94.44</td>\n",
       "      <td>94.44</td>\n",
       "      <td>90.00</td>\n",
       "      <td>91.56</td>\n",
       "      <td>16697600.0</td>\n",
       "      <td>1999-11-04</td>\n",
       "    </tr>\n",
       "    <tr>\n",
       "      <td>1999-11-03</td>\n",
       "      <td>95.87</td>\n",
       "      <td>95.94</td>\n",
       "      <td>93.50</td>\n",
       "      <td>94.37</td>\n",
       "      <td>10369100.0</td>\n",
       "      <td>1999-11-03</td>\n",
       "    </tr>\n",
       "    <tr>\n",
       "      <td>1999-11-02</td>\n",
       "      <td>96.75</td>\n",
       "      <td>96.81</td>\n",
       "      <td>93.69</td>\n",
       "      <td>94.81</td>\n",
       "      <td>11105400.0</td>\n",
       "      <td>1999-11-02</td>\n",
       "    </tr>\n",
       "    <tr>\n",
       "      <td>1999-11-01</td>\n",
       "      <td>98.50</td>\n",
       "      <td>98.81</td>\n",
       "      <td>96.37</td>\n",
       "      <td>96.75</td>\n",
       "      <td>9551800.0</td>\n",
       "      <td>1999-11-01</td>\n",
       "    </tr>\n",
       "  </tbody>\n",
       "</table>\n",
       "<p>5225 rows × 6 columns</p>\n",
       "</div>"
      ],
      "text/plain": [
       "            1. open  2. high  3. low  4. close   5. volume       date\n",
       "date                                                                 \n",
       "2020-08-06   125.00   126.26  125.00    126.12   3417131.0 2020-08-06\n",
       "2020-08-05   126.73   126.75  124.61    125.45   3675400.0 2020-08-05\n",
       "2020-08-04   123.82   125.86  123.82    125.84   3431366.0 2020-08-04\n",
       "2020-08-03   123.50   124.41  122.15    124.31   3526574.0 2020-08-03\n",
       "2020-07-31   122.71   122.99  121.09    122.94   5277652.0 2020-07-31\n",
       "...             ...      ...     ...       ...         ...        ...\n",
       "1999-11-05    92.75    92.94   90.19     90.25  13737600.0 1999-11-05\n",
       "1999-11-04    94.44    94.44   90.00     91.56  16697600.0 1999-11-04\n",
       "1999-11-03    95.87    95.94   93.50     94.37  10369100.0 1999-11-03\n",
       "1999-11-02    96.75    96.81   93.69     94.81  11105400.0 1999-11-02\n",
       "1999-11-01    98.50    98.81   96.37     96.75   9551800.0 1999-11-01\n",
       "\n",
       "[5225 rows x 6 columns]"
      ]
     },
     "execution_count": 8,
     "metadata": {},
     "output_type": "execute_result"
    }
   ],
   "source": [
    "IBM_data"
   ]
  },
  {
   "cell_type": "code",
   "execution_count": 9,
   "metadata": {},
   "outputs": [],
   "source": [
    "IBM_training_complete = pd.read_csv('/Users/kelbywilson/Desktop/project_3/IBM_data.csv')"
   ]
  },
  {
   "cell_type": "code",
   "execution_count": 10,
   "metadata": {},
   "outputs": [],
   "source": [
    "IBM_training_processed = IBM_training_complete.iloc[:, 1:2].values"
   ]
  },
  {
   "cell_type": "code",
   "execution_count": 11,
   "metadata": {},
   "outputs": [],
   "source": [
    "from sklearn.preprocessing import MinMaxScaler\n",
    "scaler = MinMaxScaler(feature_range = (0, 1))\n",
    "\n",
    "IBM_training_scaled = scaler.fit_transform(IBM_training_processed)"
   ]
  },
  {
   "cell_type": "code",
   "execution_count": 12,
   "metadata": {},
   "outputs": [],
   "source": [
    "features_set = []\n",
    "labels = []\n",
    "for i in range(60, 5225):\n",
    "    features_set.append(IBM_training_scaled[i-60:i, 0])\n",
    "    labels.append(IBM_training_scaled[i, 0])"
   ]
  },
  {
   "cell_type": "code",
   "execution_count": 13,
   "metadata": {},
   "outputs": [],
   "source": [
    "# Convert both the feature_set and the labels list to the numpy array before we can use it for training\n",
    "features_set, labels = np.array(features_set), np.array(labels)"
   ]
  },
  {
   "cell_type": "code",
   "execution_count": 14,
   "metadata": {},
   "outputs": [],
   "source": [
    "# In order to train LSTM on our data, we need to convert our data into the shape accepted by the LSTM.\n",
    "# We need to convert our data into three-dimensional format\n",
    "features_set = np.reshape(features_set, (features_set.shape[0], features_set.shape[1], 1))"
   ]
  },
  {
   "cell_type": "code",
   "execution_count": 16,
   "metadata": {},
   "outputs": [],
   "source": [
    "from tensorflow.keras.models import Sequential\n",
    "from tensorflow.keras.layers import Dense\n",
    "from tensorflow.keras.layers import LSTM\n",
    "from tensorflow.keras.layers import Dropout"
   ]
  },
  {
   "cell_type": "code",
   "execution_count": 17,
   "metadata": {},
   "outputs": [],
   "source": [
    "model = Sequential()"
   ]
  },
  {
   "cell_type": "code",
   "execution_count": 18,
   "metadata": {},
   "outputs": [
    {
     "name": "stdout",
     "output_type": "stream",
     "text": [
      "WARNING:tensorflow:From /Users/kelbywilson/opt/anaconda3/lib/python3.7/site-packages/tensorflow_core/python/ops/resource_variable_ops.py:1630: calling BaseResourceVariable.__init__ (from tensorflow.python.ops.resource_variable_ops) with constraint is deprecated and will be removed in a future version.\n",
      "Instructions for updating:\n",
      "If using Keras pass *_constraint arguments to layers.\n"
     ]
    }
   ],
   "source": [
    "model.add(LSTM(units=50, return_sequences=True, input_shape=(features_set.shape[1], 1)))"
   ]
  },
  {
   "cell_type": "code",
   "execution_count": 19,
   "metadata": {},
   "outputs": [],
   "source": [
    "# Add dropout layer to avoid overfitting of the data\n",
    "model.add(Dropout(0.2))"
   ]
  },
  {
   "cell_type": "code",
   "execution_count": 20,
   "metadata": {},
   "outputs": [],
   "source": [
    "model.add(LSTM(units=50, return_sequences=True))\n",
    "model.add(Dropout(0.2))\n",
    "\n",
    "model.add(LSTM(units=50, return_sequences=True))\n",
    "model.add(Dropout(0.2))\n",
    "\n",
    "model.add(LSTM(units=50))\n",
    "model.add(Dropout(0.2))"
   ]
  },
  {
   "cell_type": "code",
   "execution_count": 21,
   "metadata": {},
   "outputs": [],
   "source": [
    "# To make our model more robust we add a dense layer\n",
    "model.add(Dense(units = 1))"
   ]
  },
  {
   "cell_type": "code",
   "execution_count": 23,
   "metadata": {},
   "outputs": [],
   "source": [
    "model.compile(optimizer = 'adam', loss = 'mean_squared_error')"
   ]
  },
  {
   "cell_type": "code",
   "execution_count": 24,
   "metadata": {},
   "outputs": [
    {
     "name": "stdout",
     "output_type": "stream",
     "text": [
      "WARNING:tensorflow:From /Users/kelbywilson/opt/anaconda3/lib/python3.7/site-packages/tensorflow_core/python/ops/math_grad.py:1424: where (from tensorflow.python.ops.array_ops) is deprecated and will be removed in a future version.\n",
      "Instructions for updating:\n",
      "Use tf.where in 2.0, which has the same broadcast rule as np.where\n",
      "Train on 5165 samples\n",
      "Epoch 1/100\n",
      "5165/5165 [==============================] - 26s 5ms/sample - loss: 0.0160\n",
      "Epoch 2/100\n",
      "5165/5165 [==============================] - 25s 5ms/sample - loss: 0.0039\n",
      "Epoch 3/100\n",
      "5165/5165 [==============================] - 25s 5ms/sample - loss: 0.0035\n",
      "Epoch 4/100\n",
      "5165/5165 [==============================] - 25s 5ms/sample - loss: 0.0032\n",
      "Epoch 5/100\n",
      "5165/5165 [==============================] - 26s 5ms/sample - loss: 0.0028\n",
      "Epoch 6/100\n",
      "5165/5165 [==============================] - 25s 5ms/sample - loss: 0.0026\n",
      "Epoch 7/100\n",
      "5165/5165 [==============================] - 24s 5ms/sample - loss: 0.0023\n",
      "Epoch 8/100\n",
      "5165/5165 [==============================] - 24s 5ms/sample - loss: 0.0021\n",
      "Epoch 9/100\n",
      "5165/5165 [==============================] - 23s 5ms/sample - loss: 0.0022\n",
      "Epoch 10/100\n",
      "5165/5165 [==============================] - 23s 5ms/sample - loss: 0.0019\n",
      "Epoch 11/100\n",
      "5165/5165 [==============================] - 23s 5ms/sample - loss: 0.0019\n",
      "Epoch 12/100\n",
      "5165/5165 [==============================] - 24s 5ms/sample - loss: 0.0017\n",
      "Epoch 13/100\n",
      "5165/5165 [==============================] - 24s 5ms/sample - loss: 0.0017\n",
      "Epoch 14/100\n",
      "5165/5165 [==============================] - 26s 5ms/sample - loss: 0.0015\n",
      "Epoch 15/100\n",
      "5165/5165 [==============================] - 24s 5ms/sample - loss: 0.0014\n",
      "Epoch 16/100\n",
      "5165/5165 [==============================] - 23s 5ms/sample - loss: 0.0014\n",
      "Epoch 17/100\n",
      "5165/5165 [==============================] - 24s 5ms/sample - loss: 0.0013\n",
      "Epoch 18/100\n",
      "5165/5165 [==============================] - 25s 5ms/sample - loss: 0.0014\n",
      "Epoch 19/100\n",
      "5165/5165 [==============================] - 27s 5ms/sample - loss: 0.0014\n",
      "Epoch 20/100\n",
      "5165/5165 [==============================] - 24s 5ms/sample - loss: 0.0012\n",
      "Epoch 21/100\n",
      "5165/5165 [==============================] - 24s 5ms/sample - loss: 0.0012\n",
      "Epoch 22/100\n",
      "5165/5165 [==============================] - 24s 5ms/sample - loss: 0.0011\n",
      "Epoch 23/100\n",
      "5165/5165 [==============================] - 24s 5ms/sample - loss: 0.0011\n",
      "Epoch 24/100\n",
      "5165/5165 [==============================] - 24s 5ms/sample - loss: 0.0011\n",
      "Epoch 25/100\n",
      "5165/5165 [==============================] - 24s 5ms/sample - loss: 9.9984e-04\n",
      "Epoch 26/100\n",
      "5165/5165 [==============================] - 24s 5ms/sample - loss: 9.8247e-04\n",
      "Epoch 27/100\n",
      "5165/5165 [==============================] - 24s 5ms/sample - loss: 0.0010\n",
      "Epoch 28/100\n",
      "5165/5165 [==============================] - 24s 5ms/sample - loss: 0.0010\n",
      "Epoch 29/100\n",
      "5165/5165 [==============================] - 24s 5ms/sample - loss: 9.1609e-04\n",
      "Epoch 30/100\n",
      "5165/5165 [==============================] - 24s 5ms/sample - loss: 9.0534e-04\n",
      "Epoch 31/100\n",
      "5165/5165 [==============================] - 24s 5ms/sample - loss: 8.9184e-04\n",
      "Epoch 32/100\n",
      "5165/5165 [==============================] - 24s 5ms/sample - loss: 8.3915e-04\n",
      "Epoch 33/100\n",
      "5165/5165 [==============================] - 24s 5ms/sample - loss: 8.8189e-04\n",
      "Epoch 34/100\n",
      "5165/5165 [==============================] - 24s 5ms/sample - loss: 8.5277e-04\n",
      "Epoch 35/100\n",
      "5165/5165 [==============================] - 24s 5ms/sample - loss: 7.9085e-04\n",
      "Epoch 36/100\n",
      "5165/5165 [==============================] - 24s 5ms/sample - loss: 7.6273e-04\n",
      "Epoch 37/100\n",
      "5165/5165 [==============================] - 24s 5ms/sample - loss: 7.6122e-04\n",
      "Epoch 38/100\n",
      "5165/5165 [==============================] - 24s 5ms/sample - loss: 7.4016e-04\n",
      "Epoch 39/100\n",
      "5165/5165 [==============================] - 24s 5ms/sample - loss: 7.6416e-04\n",
      "Epoch 40/100\n",
      "5165/5165 [==============================] - 24s 5ms/sample - loss: 7.3588e-04\n",
      "Epoch 41/100\n",
      "5165/5165 [==============================] - 24s 5ms/sample - loss: 7.2209e-04\n",
      "Epoch 42/100\n",
      "5165/5165 [==============================] - 24s 5ms/sample - loss: 7.0039e-04\n",
      "Epoch 43/100\n",
      "5165/5165 [==============================] - 24s 5ms/sample - loss: 7.3388e-04\n",
      "Epoch 44/100\n",
      "5165/5165 [==============================] - 24s 5ms/sample - loss: 7.3949e-04\n",
      "Epoch 45/100\n",
      "5165/5165 [==============================] - 24s 5ms/sample - loss: 6.8174e-04\n",
      "Epoch 46/100\n",
      "5165/5165 [==============================] - 24s 5ms/sample - loss: 7.5644e-04\n",
      "Epoch 47/100\n",
      "5165/5165 [==============================] - 24s 5ms/sample - loss: 7.2124e-04\n",
      "Epoch 48/100\n",
      "5165/5165 [==============================] - 24s 5ms/sample - loss: 6.7551e-04\n",
      "Epoch 49/100\n",
      "5165/5165 [==============================] - 24s 5ms/sample - loss: 8.4437e-04\n",
      "Epoch 50/100\n",
      "5165/5165 [==============================] - 24s 5ms/sample - loss: 7.1496e-04\n",
      "Epoch 51/100\n",
      "5165/5165 [==============================] - 23s 5ms/sample - loss: 6.9721e-04\n",
      "Epoch 52/100\n",
      "5165/5165 [==============================] - 24s 5ms/sample - loss: 6.3375e-04\n",
      "Epoch 53/100\n",
      "5165/5165 [==============================] - 24s 5ms/sample - loss: 6.8082e-04\n",
      "Epoch 54/100\n",
      "5165/5165 [==============================] - 24s 5ms/sample - loss: 6.7573e-04\n",
      "Epoch 55/100\n",
      "5165/5165 [==============================] - 24s 5ms/sample - loss: 6.3156e-04\n",
      "Epoch 56/100\n",
      "5165/5165 [==============================] - 25s 5ms/sample - loss: 6.8565e-04\n",
      "Epoch 57/100\n",
      "5165/5165 [==============================] - 24s 5ms/sample - loss: 6.6722e-04\n",
      "Epoch 58/100\n",
      "5165/5165 [==============================] - 23s 5ms/sample - loss: 6.4569e-04\n",
      "Epoch 59/100\n",
      "5165/5165 [==============================] - 24s 5ms/sample - loss: 6.7211e-04\n",
      "Epoch 60/100\n",
      "5165/5165 [==============================] - 24s 5ms/sample - loss: 6.4661e-04\n",
      "Epoch 61/100\n",
      "5165/5165 [==============================] - 24s 5ms/sample - loss: 7.3959e-04\n",
      "Epoch 62/100\n",
      "5165/5165 [==============================] - 24s 5ms/sample - loss: 6.3957e-04\n",
      "Epoch 63/100\n",
      "5165/5165 [==============================] - 24s 5ms/sample - loss: 6.7082e-04\n",
      "Epoch 64/100\n",
      "5165/5165 [==============================] - 24s 5ms/sample - loss: 6.3765e-04\n",
      "Epoch 65/100\n",
      "5165/5165 [==============================] - 24s 5ms/sample - loss: 6.7553e-04\n",
      "Epoch 66/100\n",
      "5165/5165 [==============================] - 24s 5ms/sample - loss: 6.5638e-04\n",
      "Epoch 67/100\n",
      "5165/5165 [==============================] - 24s 5ms/sample - loss: 7.2855e-04\n",
      "Epoch 68/100\n",
      "5165/5165 [==============================] - 24s 5ms/sample - loss: 6.6272e-04\n",
      "Epoch 69/100\n",
      "5165/5165 [==============================] - 24s 5ms/sample - loss: 6.6078e-04\n",
      "Epoch 70/100\n",
      "5165/5165 [==============================] - 24s 5ms/sample - loss: 6.6004e-04\n",
      "Epoch 71/100\n",
      "5165/5165 [==============================] - 24s 5ms/sample - loss: 6.8436e-04\n",
      "Epoch 72/100\n",
      "5165/5165 [==============================] - 24s 5ms/sample - loss: 6.5913e-04\n",
      "Epoch 73/100\n",
      "5165/5165 [==============================] - 24s 5ms/sample - loss: 6.8178e-04\n",
      "Epoch 74/100\n",
      "5165/5165 [==============================] - 24s 5ms/sample - loss: 6.4691e-04\n",
      "Epoch 75/100\n",
      "5165/5165 [==============================] - 24s 5ms/sample - loss: 6.0204e-04\n",
      "Epoch 76/100\n",
      "5165/5165 [==============================] - 24s 5ms/sample - loss: 6.5540e-04\n",
      "Epoch 77/100\n",
      "5165/5165 [==============================] - 24s 5ms/sample - loss: 6.2062e-04\n",
      "Epoch 78/100\n",
      "5165/5165 [==============================] - 24s 5ms/sample - loss: 6.0288e-04\n",
      "Epoch 79/100\n",
      "5165/5165 [==============================] - 24s 5ms/sample - loss: 6.5917e-04\n",
      "Epoch 80/100\n",
      "5165/5165 [==============================] - 24s 5ms/sample - loss: 6.3277e-04\n",
      "Epoch 81/100\n",
      "5165/5165 [==============================] - 24s 5ms/sample - loss: 6.4233e-04\n",
      "Epoch 82/100\n",
      "5165/5165 [==============================] - 24s 5ms/sample - loss: 6.3098e-04\n",
      "Epoch 83/100\n",
      "5165/5165 [==============================] - 24s 5ms/sample - loss: 6.0932e-04\n",
      "Epoch 84/100\n",
      "5165/5165 [==============================] - 24s 5ms/sample - loss: 6.4123e-04\n",
      "Epoch 85/100\n",
      "5165/5165 [==============================] - 24s 5ms/sample - loss: 6.2399e-04\n",
      "Epoch 86/100\n",
      "5165/5165 [==============================] - 24s 5ms/sample - loss: 5.9655e-04\n",
      "Epoch 87/100\n"
     ]
    },
    {
     "name": "stdout",
     "output_type": "stream",
     "text": [
      "5165/5165 [==============================] - 23s 5ms/sample - loss: 5.9862e-04\n",
      "Epoch 88/100\n",
      "5165/5165 [==============================] - 24s 5ms/sample - loss: 6.1915e-04\n",
      "Epoch 89/100\n",
      "5165/5165 [==============================] - 24s 5ms/sample - loss: 5.9588e-04\n",
      "Epoch 90/100\n",
      "5165/5165 [==============================] - 24s 5ms/sample - loss: 6.2382e-04\n",
      "Epoch 91/100\n",
      "5165/5165 [==============================] - 23s 5ms/sample - loss: 6.6571e-04\n",
      "Epoch 92/100\n",
      "5165/5165 [==============================] - 24s 5ms/sample - loss: 6.2024e-04\n",
      "Epoch 93/100\n",
      "5165/5165 [==============================] - 24s 5ms/sample - loss: 6.4403e-04\n",
      "Epoch 94/100\n",
      "5165/5165 [==============================] - 24s 5ms/sample - loss: 6.2313e-04\n",
      "Epoch 95/100\n",
      "5165/5165 [==============================] - 24s 5ms/sample - loss: 6.0518e-04\n",
      "Epoch 96/100\n",
      "5165/5165 [==============================] - 24s 5ms/sample - loss: 6.3554e-04\n",
      "Epoch 97/100\n",
      "5165/5165 [==============================] - 23s 5ms/sample - loss: 6.1882e-04\n",
      "Epoch 98/100\n",
      "5165/5165 [==============================] - 23s 5ms/sample - loss: 6.0378e-04\n",
      "Epoch 99/100\n",
      "5165/5165 [==============================] - 24s 5ms/sample - loss: 6.1768e-04\n",
      "Epoch 100/100\n",
      "5165/5165 [==============================] - 23s 5ms/sample - loss: 6.0476e-04\n"
     ]
    },
    {
     "data": {
      "text/plain": [
       "<tensorflow.python.keras.callbacks.History at 0x7feecf632c10>"
      ]
     },
     "execution_count": 24,
     "metadata": {},
     "output_type": "execute_result"
    }
   ],
   "source": [
    "model.fit(features_set, labels, epochs = 100, batch_size = 32)"
   ]
  },
  {
   "cell_type": "code",
   "execution_count": 27,
   "metadata": {},
   "outputs": [
    {
     "ename": "NameError",
     "evalue": "name 'df' is not defined",
     "output_type": "error",
     "traceback": [
      "\u001b[0;31m---------------------------------------------------------------------------\u001b[0m",
      "\u001b[0;31mNameError\u001b[0m                                 Traceback (most recent call last)",
      "\u001b[0;32m<ipython-input-27-9634f26bc992>\u001b[0m in \u001b[0;36m<module>\u001b[0;34m\u001b[0m\n\u001b[1;32m      1\u001b[0m \u001b[0;31m# First calculate the mid prices from the highest and lowest\u001b[0m\u001b[0;34m\u001b[0m\u001b[0;34m\u001b[0m\u001b[0;34m\u001b[0m\u001b[0m\n\u001b[0;32m----> 2\u001b[0;31m \u001b[0mhigh_prices\u001b[0m \u001b[0;34m=\u001b[0m \u001b[0mdf\u001b[0m\u001b[0;34m.\u001b[0m\u001b[0mloc\u001b[0m\u001b[0;34m[\u001b[0m\u001b[0;34m:\u001b[0m\u001b[0;34m,\u001b[0m\u001b[0;34m'High'\u001b[0m\u001b[0;34m]\u001b[0m\u001b[0;34m.\u001b[0m\u001b[0mto_numpy\u001b[0m\u001b[0;34m(\u001b[0m\u001b[0;34m)\u001b[0m\u001b[0;34m\u001b[0m\u001b[0;34m\u001b[0m\u001b[0m\n\u001b[0m\u001b[1;32m      3\u001b[0m \u001b[0mlow_prices\u001b[0m \u001b[0;34m=\u001b[0m \u001b[0mdf\u001b[0m\u001b[0;34m.\u001b[0m\u001b[0mloc\u001b[0m\u001b[0;34m[\u001b[0m\u001b[0;34m:\u001b[0m\u001b[0;34m,\u001b[0m\u001b[0;34m'Low'\u001b[0m\u001b[0;34m]\u001b[0m\u001b[0;34m.\u001b[0m\u001b[0mto_numpy\u001b[0m\u001b[0;34m(\u001b[0m\u001b[0;34m)\u001b[0m\u001b[0;34m\u001b[0m\u001b[0;34m\u001b[0m\u001b[0m\n\u001b[1;32m      4\u001b[0m \u001b[0mmid_prices\u001b[0m \u001b[0;34m=\u001b[0m \u001b[0;34m(\u001b[0m\u001b[0mhigh_prices\u001b[0m\u001b[0;34m+\u001b[0m\u001b[0mlow_prices\u001b[0m\u001b[0;34m)\u001b[0m\u001b[0;34m/\u001b[0m\u001b[0;36m2.0\u001b[0m\u001b[0;34m\u001b[0m\u001b[0;34m\u001b[0m\u001b[0m\n",
      "\u001b[0;31mNameError\u001b[0m: name 'df' is not defined"
     ]
    }
   ],
   "source": [
    "# First calculate the mid prices from the highest and lowest\n",
    "#high_prices = df.loc[:,'High'].to_numpy()\n",
    "#low_prices = df.loc[:,'Low'].to_numpy()\n",
    "#mid_prices = (high_prices+low_prices)/2.0"
   ]
  },
  {
   "cell_type": "code",
   "execution_count": null,
   "metadata": {},
   "outputs": [],
   "source": [
    "#train_bound = int(2*len(mid_prices)/3)\n",
    "#train_data = mid_prices[:train_bound]\n",
    "#test_data = mid_prices[train_bound:]"
   ]
  },
  {
   "cell_type": "code",
   "execution_count": 34,
   "metadata": {},
   "outputs": [],
   "source": [
    "IBM_testing_complete = pd.read_csv('/Users/kelbywilson/Desktop/project_3/daily_IBM_3-18-20-8-7-20.csv')\n",
    "IBM_testing_processed = IBM_testing_complete.iloc[:, 1:2].values"
   ]
  },
  {
   "cell_type": "code",
   "execution_count": 37,
   "metadata": {},
   "outputs": [],
   "source": [
    "IBM_total = pd.concat((IBM_training_complete['1. open'], IBM_testing_complete['open']), axis=0)"
   ]
  },
  {
   "cell_type": "code",
   "execution_count": 38,
   "metadata": {},
   "outputs": [],
   "source": [
    "test_inputs = IBM_total[len(IBM_total) - len(IBM_testing_complete) - 60:].values"
   ]
  },
  {
   "cell_type": "code",
   "execution_count": 39,
   "metadata": {},
   "outputs": [],
   "source": [
    "test_inputs = test_inputs.reshape(-1,1)\n",
    "test_inputs = scaler.transform(test_inputs)"
   ]
  },
  {
   "cell_type": "code",
   "execution_count": 40,
   "metadata": {},
   "outputs": [],
   "source": [
    "test_features = []\n",
    "for i in range(60, 80):\n",
    "    test_features.append(test_inputs[i-60:i, 0])"
   ]
  },
  {
   "cell_type": "code",
   "execution_count": 41,
   "metadata": {},
   "outputs": [],
   "source": [
    "test_features = np.array(test_features)\n",
    "test_features = np.reshape(test_features, (test_features.shape[0], test_features.shape[1], 1))"
   ]
  },
  {
   "cell_type": "code",
   "execution_count": 42,
   "metadata": {},
   "outputs": [],
   "source": [
    "predictions = model.predict(test_features)"
   ]
  },
  {
   "cell_type": "code",
   "execution_count": 43,
   "metadata": {},
   "outputs": [],
   "source": [
    "predictions = scaler.inverse_transform(predictions)"
   ]
  },
  {
   "cell_type": "code",
   "execution_count": 44,
   "metadata": {},
   "outputs": [
    {
     "data": {
      "image/png": "[encoded data removed]",
      "text/plain": [
       "<Figure size 720x432 with 1 Axes>"
      ]
     },
     "metadata": {
      "needs_background": "light"
     },
     "output_type": "display_data"
    }
   ],
   "source": [
    "plt.figure(figsize=(10,6))\n",
    "plt.plot(IBM_testing_processed, color='blue', label='Actual IBM Stock Price')\n",
    "plt.plot(predictions , color='red', label='Predicted IBM Stock Price')\n",
    "plt.title('IBM Stock Price Prediction')\n",
    "plt.xlabel('Date')\n",
    "plt.ylabel('IBM Stock Price')\n",
    "plt.legend()\n",
    "plt.show()"
   ]
  },
  {
   "cell_type": "code",
   "execution_count": null,
   "metadata": {},
   "outputs": [],
   "source": []
  },
  {
   "cell_type": "code",
   "execution_count": null,
   "metadata": {},
   "outputs": [],
   "source": []
  },
  {
   "cell_type": "code",
   "execution_count": null,
   "metadata": {},
   "outputs": [],
   "source": []
  },
  {
   "cell_type": "code",
   "execution_count": null,
   "metadata": {},
   "outputs": [],
   "source": [
    "#best_prediction_epoch"
   ]
  }
 ],
 "metadata": {
  "kernelspec": {
   "display_name": "Python 3",
   "language": "python",
   "name": "python3"
  },
  "language_info": {
   "codemirror_mode": {
    "name": "ipython",
    "version": 3
   },
   "file_extension": ".py",
   "mimetype": "text/x-python",
   "name": "python",
   "nbconvert_exporter": "python",
   "pygments_lexer": "ipython3",
   "version": "3.7.4"
  }
 },
 "nbformat": 4,
 "nbformat_minor": 2
}
